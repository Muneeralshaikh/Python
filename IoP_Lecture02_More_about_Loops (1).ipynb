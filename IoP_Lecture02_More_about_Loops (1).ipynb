{
 "cells": [
  {
   "cell_type": "markdown",
   "metadata": {},
   "source": [
    "**Python Supplemennt: Loops. V.1** Author: B. Hogan. Date last edited: 10/25/18"
   ]
  },
  {
   "cell_type": "code",
   "execution_count": 116,
   "metadata": {},
   "outputs": [
    {
     "name": "stdout",
     "output_type": "stream",
     "text": [
      "Date last edited: 10/25/18\n"
     ]
    }
   ],
   "source": [
    "import datetime\n",
    "print(\"Date last edited:\", datetime.datetime.today().strftime(\"%x\"))"
   ]
  },
  {
   "cell_type": "markdown",
   "metadata": {},
   "source": [
    "# Loops: The Missing Lecture. "
   ]
  },
  {
   "cell_type": "markdown",
   "metadata": {},
   "source": [
    "This lecture will cover a great deal of information about loops in patient detail. It is recommended to run the cells in order as you read along, but each one should be able to run independent of the other. Much of this has already been covered implicitly or explicitly, but it is here to be a little more explicit. \n",
    "\n",
    "The purpose of using loops is to do something in particular to each item in a collection of items. If you have multiple items in a collection, you will often want to operate on all of the items. This is typically accomplished by going over the items one-by-one. We call this process 'looping'. As a verb we would _loop_ over a collection, but also as a noun, would refer to 'the loop' as the set of iterations. So we could _loop_ over a collection of items but also if we stop halfway through because of an error we have just broke the _loop_.   \n",
    "\n",
    "Loops are a foundational, crucial part of programming. In fact, much of programming really comes down to iterating through collections of things and doing something with each element under some condition. Often we put layers of abstraction on top of this process, but this process is pretty much the universal one. In fact, British mathematician Alan Turing demonstrated that, loosely speaking, any mechanism by which we can take a list, do something for some of the cases and remember where we are can do any computation. Formally this is referred to as the [universal computing machine](https://en.wikipedia.org/wiki/Universal_Turing_machine), but it is often called a Turing machine after its creator/discoverer. \n",
    "\n",
    "## Iterating using a ```for``` loop. \n",
    "Sometimes the collection is ordered, such as a ```list```, and sometimes the collection is unordered, such as a ```set``` or a ```dictionary```. Regardless, you are able to perform some action with each element of the collection and know that once you've finished you've iterated through every element of the collection. The process of going through the items is called **iterating**. \n",
    "\n",
    "The way to iterate through a collection in python is to use a \"for\" loop. It is called a \"for\" loop because we use it to do something for each element in a collection. In fact, the way it is written is meant to be similar to written English. \n",
    "\n",
    "Since we iterate through the collection, it is convention to use the letter ```i``` to stand in as a variable representing each of the collection as we operate on it one at a time. So in code you will typically see code in a pattern like the following: \n",
    "``` python\n",
    "for i in range(n):\n",
    "    print(i)\n",
    "```\n",
    "\n",
    "In this case, we use a function called range. It creates a list of numbers from ```0``` up to and including ```n```. To do something one hundred times you would write ```range(100)``` and it would return an object that operates like a list with a hundred elements, ```[0,1,2...99,100]```.\n",
    "\n",
    "Python is a language that uses the spacing of the characters to represent semantics. In this case, we have the idea of being 'inside' something or 'outside'. Being 'inside' a ```for``` loop means that we are doing some action for each element of the collection. So for each element in the range one to one hundred we would print the number. \n",
    "\n",
    "If we want to do something for some items in the collection but not others, we would use an ```if``` statement. This similarly uses spacing to denote what to do in that condition. So if we only want to print multiples of five we can use the if statement to do this:\n",
    "\n",
    "``` python\n",
    "for i in range(100):\n",
    "    if i%5==0:\n",
    "        print(i)\n",
    "```\n",
    "In this case the %5 means modulus 5 or \"get the remainder of dividing by 5\". What is the remainder of dividing by five? Just have a look by running the code below: "
   ]
  },
  {
   "cell_type": "code",
   "execution_count": 3,
   "metadata": {
    "scrolled": false
   },
   "outputs": [
    {
     "name": "stdout",
     "output_type": "stream",
     "text": [
      "i\ti//5\ti%5\n",
      "0\t0\t0\n",
      "1\t0\t1\n",
      "2\t0\t2\n",
      "3\t0\t3\n",
      "4\t0\t4\n",
      "5\t1\t0\n",
      "6\t1\t1\n",
      "7\t1\t2\n",
      "8\t1\t3\n",
      "9\t1\t4\n",
      "10\t2\t0\n",
      "11\t2\t1\n",
      "12\t2\t2\n",
      "13\t2\t3\n",
      "14\t2\t4\n",
      "15\t3\t0\n",
      "16\t3\t1\n",
      "17\t3\t2\n",
      "18\t3\t3\n",
      "19\t3\t4\n",
      "20\t4\t0\n",
      "21\t4\t1\n",
      "22\t4\t2\n",
      "23\t4\t3\n",
      "24\t4\t4\n",
      "25\t5\t0\n",
      "26\t5\t1\n",
      "27\t5\t2\n",
      "28\t5\t3\n",
      "29\t5\t4\n",
      "30\t6\t0\n",
      "31\t6\t1\n",
      "32\t6\t2\n",
      "33\t6\t3\n",
      "34\t6\t4\n",
      "35\t7\t0\n",
      "36\t7\t1\n",
      "37\t7\t2\n",
      "38\t7\t3\n",
      "39\t7\t4\n",
      "40\t8\t0\n",
      "41\t8\t1\n",
      "42\t8\t2\n",
      "43\t8\t3\n",
      "44\t8\t4\n",
      "45\t9\t0\n",
      "46\t9\t1\n",
      "47\t9\t2\n",
      "48\t9\t3\n",
      "49\t9\t4\n",
      "50\t10\t0\n",
      "51\t10\t1\n",
      "52\t10\t2\n",
      "53\t10\t3\n",
      "54\t10\t4\n",
      "55\t11\t0\n",
      "56\t11\t1\n",
      "57\t11\t2\n",
      "58\t11\t3\n",
      "59\t11\t4\n",
      "60\t12\t0\n",
      "61\t12\t1\n",
      "62\t12\t2\n",
      "63\t12\t3\n",
      "64\t12\t4\n",
      "65\t13\t0\n",
      "66\t13\t1\n",
      "67\t13\t2\n",
      "68\t13\t3\n",
      "69\t13\t4\n",
      "70\t14\t0\n",
      "71\t14\t1\n",
      "72\t14\t2\n",
      "73\t14\t3\n",
      "74\t14\t4\n",
      "75\t15\t0\n",
      "76\t15\t1\n",
      "77\t15\t2\n",
      "78\t15\t3\n",
      "79\t15\t4\n",
      "80\t16\t0\n",
      "81\t16\t1\n",
      "82\t16\t2\n",
      "83\t16\t3\n",
      "84\t16\t4\n",
      "85\t17\t0\n",
      "86\t17\t1\n",
      "87\t17\t2\n",
      "88\t17\t3\n",
      "89\t17\t4\n",
      "90\t18\t0\n",
      "91\t18\t1\n",
      "92\t18\t2\n",
      "93\t18\t3\n",
      "94\t18\t4\n",
      "95\t19\t0\n",
      "96\t19\t1\n",
      "97\t19\t2\n",
      "98\t19\t3\n",
      "99\t19\t4\n"
     ]
    }
   ],
   "source": [
    "print(\"i\",\"i//5\",\"i%5\",sep=\"\\t\") \n",
    "# \"sep\" means separate the elements using the\n",
    "# \"\\t\" which in this case is a tab character. \n",
    "\n",
    "for i in range(100):    \n",
    "    print(i, i//5, i%5, sep=\"\\t\")"
   ]
  },
  {
   "cell_type": "markdown",
   "metadata": {},
   "source": [
    "So in the above output, see the first column is the count, it's ```i```. The second column is the integer division of i/5. The last column is the remainder. So in the final row here, we have \n",
    "\n",
    "```99\t19\t4```\n",
    "\n",
    "And as we can see in the code below:"
   ]
  },
  {
   "cell_type": "code",
   "execution_count": 103,
   "metadata": {},
   "outputs": [
    {
     "name": "stdout",
     "output_type": "stream",
     "text": [
      "99\n"
     ]
    }
   ],
   "source": [
    "print(19 * 5 + 4)"
   ]
  },
  {
   "cell_type": "markdown",
   "metadata": {},
   "source": [
    "In a Jupyter notebook you can click on the long vertical (likely blue) rectangle on the left to collapse the panel. This can be helpful with long stretches of output. Speaking of which, why not print out only every fifth line instead? Now we can see why it's handy to use modulus, it allows us to do something every $nth$ time. "
   ]
  },
  {
   "cell_type": "code",
   "execution_count": 21,
   "metadata": {},
   "outputs": [
    {
     "name": "stdout",
     "output_type": "stream",
     "text": [
      "0\n",
      "5\n",
      "10\n",
      "15\n",
      "20\n",
      "25\n",
      "30\n",
      "35\n",
      "40\n",
      "45\n",
      "50\n",
      "55\n",
      "60\n",
      "65\n",
      "70\n",
      "75\n",
      "80\n",
      "85\n",
      "90\n",
      "95\n"
     ]
    }
   ],
   "source": [
    "for i in range(100):\n",
    "    if i%5==0:\n",
    "        print(i)"
   ]
  },
  {
   "cell_type": "markdown",
   "metadata": {},
   "source": [
    "## Iterating Strings \n",
    "\n",
    "If we have a list of strings we can iterate them in the same way. See below: "
   ]
  },
  {
   "cell_type": "code",
   "execution_count": 22,
   "metadata": {},
   "outputs": [
    {
     "name": "stdout",
     "output_type": "stream",
     "text": [
      "apple\n",
      "banana\n",
      "cherry\n",
      "date\n"
     ]
    }
   ],
   "source": [
    "list_of_strings = [\"apple\",\"banana\",\"cherry\",\"date\"]\n",
    "\n",
    "for i in list_of_strings: \n",
    "    print(i)"
   ]
  },
  {
   "cell_type": "markdown",
   "metadata": {},
   "source": [
    "In this case ```i``` stands in for the word. Interestingly, you might remember that a string itself is a collection, a collection of characters. Therefore, we can iterate through that collection as well. Iterating through a set and then iterating within that set is an example of a **double loop**. Double loops are very common because they allow you to iterate in two dimensions. See below how we can iterate through the above list, first by string then by character.  Below we will use ```word``` instead of ```i```. For our second iterator, I named it ```char``` to stand in for character. \n",
    "\n",
    "To note, we did not need to call the items ```word``` and ```char```. It's just helpful. You will also know that it is a 'reserved' word if you type it and it turns green instead of black. Words like ```import``` are reserved words. They are green. "
   ]
  },
  {
   "cell_type": "code",
   "execution_count": 117,
   "metadata": {},
   "outputs": [
    {
     "name": "stdout",
     "output_type": "stream",
     "text": [
      "apple\n",
      "a_p_p_l_e_\n",
      "banana\n",
      "b_a_n_a_n_a_\n",
      "cherry\n",
      "c_h_e_r_r_y_\n",
      "date\n",
      "d_a_t_e_\n"
     ]
    }
   ],
   "source": [
    "import time\n",
    "\n",
    "list_of_strings = [\"apple\",\"banana\",\"cherry\",\"date\"]\n",
    "\n",
    "for word in list_of_strings: \n",
    "    print(word)\n",
    "\n",
    "    for char in word: \n",
    "        print(char,end=\"_\")\n",
    "        time.sleep(0.2)\n",
    "    print() # try commenting this out"
   ]
  },
  {
   "cell_type": "markdown",
   "metadata": {},
   "source": [
    "Notice it was animated to demonstrate what it was doing. That was using the ```time``` module. Here we used it to sleep for ```0.2``` seconds before continuing the loop. See how it does this for each ```char``` and then prints the next whole word? Also notice how I used ```end=\"_\"```? In a ```print``` statement, using the additional ```end``` _argument_ allows us to change what happens at the end of a print statement. By default it is ```\"\\n\"```, as in go to the next line after printing this. Most of the time, this is the expeccted behavior. Here we changed it so that it was ```\"_\"```, the underscore character, to demonstrate how it prints character-by-character. \n",
    "\n",
    "Notice that I put another print between the inner loop and the next iteration of the outer loop? Delete that print statement and rerun the code. What happens? The full word (from the ```print(word)``` at the top) shows up at the end of each line with ```_``` characters. That's because when we changed the print separator we no longer at a new line at the end of ```w_o_r_d_```. So the next thing that gets printed would be appened immediately addjacent to the prevous thing that was printed."
   ]
  },
  {
   "cell_type": "markdown",
   "metadata": {},
   "source": [
    "## More on the double loop\n",
    "\n",
    "Above there we used a 'double loop'. You will encounter a lot of double loops. Later on in python you will see some different ways to manage iterating through multiple collections of different types. We want to avoid a double loop if we can since it is considered **computationally expensive**. Sometimes, through clever tricks we avoid double loops, but many more times it makes sense conceptually. Ultimately, our code has to be clear and functional. Correct code comes first and efficient code comes second. \n",
    "\n",
    "The reason why the double loop in particular is common is that it can be used with tabular data. We go through each row one at a time and then for each row we go through each column one at a time. For example, if we have a table of numbers \n",
    "```\n",
    "       M1 M2 M3 M4\n",
    "St_1   30 18 24 25\n",
    "St_2   20 28 17 22\n",
    "St_3   21 22 24 18\n",
    "```\n",
    "We could do something for each row and then do something for each column within the row. For example, these numbers might be mark out of ```30``` for each of the four assignments (```[M1, M2 M3, M4]```). If we wanted to get the _percentage_ for each student for each assignment we would divide all those numbers by 30. Let's see this below. See that I represent the table of marks as a list of lists. One list per student."
   ]
  },
  {
   "cell_type": "code",
   "execution_count": 101,
   "metadata": {},
   "outputs": [
    {
     "name": "stdout",
     "output_type": "stream",
     "text": [
      "30, 18, 25, 25, \n",
      "20, 28, 17, 22, \n",
      "21, 22, 24, 18, \n",
      "\n",
      "1.00, 0.60, 0.83, 0.83, \n",
      "0.67, 0.93, 0.57, 0.73, \n",
      "0.70, 0.73, 0.80, 0.60, \n"
     ]
    }
   ],
   "source": [
    "import time \n",
    "\n",
    "raw_scores = [[30, 18, 25, 25],\n",
    "              [20, 28, 17, 22],\n",
    "              [21, 22, 24, 18]]\n",
    "# I didn't have to make it look squared up, but I did it because \n",
    "# it is clearer this way. \n",
    "# Also, notice that python lets you line break after a comma.\n",
    "\n",
    "for row in raw_scores: \n",
    "    for mark in row: \n",
    "        print(mark, end=\", \")\n",
    "        time.sleep(0.2)\n",
    "    print()\n",
    "    \n",
    "print()\n",
    "for row in raw_scores:\n",
    "    for mark in row: \n",
    "        print(\"{:.2f}\".format(mark/30), end=\", \")\n",
    "        time.sleep(0.2)\n",
    "    print()"
   ]
  },
  {
   "cell_type": "markdown",
   "metadata": {},
   "source": [
    "Above we did a few things to note \n",
    "- We printed by row then column (twice). We first printed the original table (up top) then the table with the percentages down below. \n",
    "- We calculated percentages one by one using ```mark/25```. \n",
    "- We again used time.sleep to show how it goes by row then by column; more specifically it is working within each inner list before going on to the next.\n",
    "- We then printed both the original mark (up top) and then the ```mark/25``` down below. \n",
    "\n",
    "Also notice that we didn't print the entire ```mark/30```. For example, if it was 17/30, the full number would be 0.5666666666666...etc. So instead we just rounded that number up by using ```format```. Format works by getting called from a string, in this case the entire string is just the code for how to format the number ```{:.2f}```. \n",
    "\n",
    "That string uses braces, ```{``` and ```}``` to encase the formatting codes. Inside the braces is ```:.2f```. The ```:``` is not so important now. We make use of it when we pass ```.format(<object)``` a collection rather than a number. We will address that later. For now, just put a number in your ```.format(<number>)``` and then after the colon give \n",
    "```\n",
    "<significant digits before decimal>.<sig digits after decimal><numeric type>\n",
    "```\n",
    "So since we want all digits before the decimal and two after, for a **f**loating point number we write ```:.2f``` inside the braces. "
   ]
  },
  {
   "cell_type": "markdown",
   "metadata": {},
   "source": [
    "## Enumerate"
   ]
  },
  {
   "cell_type": "markdown",
   "metadata": {},
   "source": [
    "Recall how useful it was to have a counter? We used modulus on the iterator as it was a number. But in the case of the list of strings you can't ask ```\"apple\" / 5```. So how do we get the $nth$ element here? We can create a counter and have the counter iterate through numbers and use that alongside whatever collection you were iterating through. \n",
    "\n",
    "The basic way to get a counter is to literally initialize a counter by doing ```counter=0``` and then once every loop you add one to the counter ```counter += 1```. When we add something to a variable and we don't want to create a new variable we can say ```+=```. This is easier than saying ```counter = counter + 1```. See this below: "
   ]
  },
  {
   "cell_type": "code",
   "execution_count": 123,
   "metadata": {},
   "outputs": [
    {
     "name": "stdout",
     "output_type": "stream",
     "text": [
      "apple\t0\ta\n",
      "banana\t1\ta\n",
      "cherry\t2\te\n",
      "date\t3\te\n"
     ]
    }
   ],
   "source": [
    "list_of_strings = [\"apple\",\"banana\",\"cherry\",\"date\"]\n",
    "\n",
    "counter = 0\n",
    "for i in list_of_strings: \n",
    "    print(i,str(counter),i[counter],sep=\"\\t\")\n",
    "    counter += 1 "
   ]
  },
  {
   "cell_type": "markdown",
   "metadata": {},
   "source": [
    "A more pythonic way of doing this would be to use a special function called ```enumerate()```. This function takes in your collection and then during the for loop returns **both** a counter and one element at a time from your collection. See enumerate in action below:  "
   ]
  },
  {
   "cell_type": "code",
   "execution_count": 55,
   "metadata": {},
   "outputs": [
    {
     "name": "stdout",
     "output_type": "stream",
     "text": [
      "0. apple\n",
      "1. banana\n",
      "2. cherry\n",
      "3. date\n"
     ]
    }
   ],
   "source": [
    "list_of_strings = [\"apple\",\"banana\",\"cherry\",\"date\"]\n",
    "\n",
    "for counter, i in enumerate(list_of_strings):\n",
    "    print(counter,i,sep=\". \")"
   ]
  },
  {
   "cell_type": "markdown",
   "metadata": {},
   "source": [
    "Instead of counter, it is common to see people using just the letter ```c```. Then when you want to report something every tenth or thousandth time the loop runs you would insert in your code: \n",
    "\n",
    "``` python\n",
    "if c%1000 == 0: print(\"Line %s\" % c)\n",
    "``` "
   ]
  },
  {
   "cell_type": "markdown",
   "metadata": {},
   "source": [
    "## Iterating dictionaries\n",
    "\n",
    "Since we know that an iterator can return multiple things, this can help us use an iterator with something like a dictionary. Recall that dictionaries have ```key```,```value``` pairs? We can return these pairs using the ```{}.items()``` method. Below we will\n",
    "- Create a dictionary. \n",
    "- Just print the items() method. \n",
    "- See how this can used in the syntax of a ```for``` loop "
   ]
  },
  {
   "cell_type": "code",
   "execution_count": 58,
   "metadata": {},
   "outputs": [
    {
     "name": "stdout",
     "output_type": "stream",
     "text": [
      "dict_items([('salt', 'parmesean'), ('fat', 'olive oil'), ('acid', 'vinegar'), ('heat', 'toast')])\n",
      "\n",
      "salt --> parmesean\n",
      "fat --> olive oil\n",
      "acid --> vinegar\n",
      "heat --> toast\n"
     ]
    }
   ],
   "source": [
    "ingredients = {\"salt\":\"parmesean\", \n",
    "               \"fat\":\"olive oil\",\n",
    "               \"acid\":\"vinegar\",\n",
    "               \"heat\":\"toast\"\n",
    "              }\n",
    "\n",
    "print( ingredients.items() ,end=\"\\n\\n\")\n",
    "\n",
    "for quality,food in ingredients.items():\n",
    "    print(quality,food,sep=\" --> \")"
   ]
  },
  {
   "cell_type": "markdown",
   "metadata": {},
   "source": [
    "## Iterating a table of values\n",
    "\n",
    "Returning to the double loop, it is good to get used to using a double loop in clever ways. I like to practice using double loops with little squares of ascii art. For example, here I'll show a series of repeating loops of increasing complexity. "
   ]
  },
  {
   "cell_type": "code",
   "execution_count": 61,
   "metadata": {},
   "outputs": [
    {
     "name": "stdout",
     "output_type": "stream",
     "text": [
      "0 0 0 0 0 \n",
      "1 1 1 1 1 \n",
      "2 2 2 2 2 \n",
      "3 3 3 3 3 \n",
      "4 4 4 4 4 \n"
     ]
    }
   ],
   "source": [
    "# Square one\n",
    "for row in range(5): \n",
    "    for col in range(5):\n",
    "        print(row ,end=\" \")\n",
    "    print()"
   ]
  },
  {
   "cell_type": "code",
   "execution_count": 62,
   "metadata": {},
   "outputs": [
    {
     "name": "stdout",
     "output_type": "stream",
     "text": [
      "0 1 2 3 4 \n",
      "0 1 2 3 4 \n",
      "0 1 2 3 4 \n",
      "0 1 2 3 4 \n",
      "0 1 2 3 4 \n"
     ]
    }
   ],
   "source": [
    "# Square two\n",
    "for row in range(5): \n",
    "    for col in range(5):\n",
    "        print(col,end=\" \")\n",
    "    print()"
   ]
  },
  {
   "cell_type": "code",
   "execution_count": 66,
   "metadata": {},
   "outputs": [
    {
     "name": "stdout",
     "output_type": "stream",
     "text": [
      "0 1 2 3 4 \n",
      "1 2 3 4 5 \n",
      "2 3 4 5 6 \n",
      "3 4 5 6 7 \n",
      "4 5 6 7 8 \n"
     ]
    }
   ],
   "source": [
    "# Square three\n",
    "for row in range(5):\n",
    "    for col in range(5):\n",
    "        print(row+col,end=\" \")\n",
    "    print()"
   ]
  },
  {
   "cell_type": "code",
   "execution_count": 71,
   "metadata": {},
   "outputs": [
    {
     "name": "stdout",
     "output_type": "stream",
     "text": [
      "x o x o x \n",
      "o x o x o \n",
      "x o x o x \n",
      "o x o x o \n",
      "x o x o x \n"
     ]
    }
   ],
   "source": [
    "# Square four\n",
    "for row in range(5):\n",
    "    for col in range(5):\n",
    "        if (row+col)%2==0: \n",
    "            print('x',end=\" \")\n",
    "        else:\n",
    "            print('o',end = \" \")\n",
    "    print()"
   ]
  },
  {
   "cell_type": "code",
   "execution_count": 76,
   "metadata": {},
   "outputs": [
    {
     "name": "stdout",
     "output_type": "stream",
     "text": [
      "point\n",
      "ointp\n",
      "intpo\n",
      "ntpoi\n",
      "tpoin\n"
     ]
    }
   ],
   "source": [
    "# Square five\n",
    "word = \"point\"\n",
    "for i in range(5):\n",
    "    print(word[i:],word[:i],sep='')"
   ]
  },
  {
   "cell_type": "markdown",
   "metadata": {},
   "source": [
    "## Clarifying continue, pass and break. \n",
    "\n",
    "You do not have to do everything inside a loop every time. We already saw how an ```if``` statement can be used to do something only under specific conditions. But we can use system words, often inside an if statement to direct the flow of a loop. \n",
    "\n",
    "Typically a loop will finish under the two following conditions: \n",
    "- At the end of the iterator in a ```for``` loop\n",
    "- when the condition is ```False``` in a ```while``` loop. \n",
    "\n",
    "So, in: ```for i in range(10):```\n",
    "it will leave the loop once ```i``` has reached 10. \n",
    "\n",
    "And in: ``` while foundWord == False: ```\n",
    "it will leave the while loop once the variable ```foundWord``` is assigned a value of ```True```. (Yes you read that correctly). Normally you would see code like this:\n",
    "\n",
    "~~~ python\n",
    "foundWord = False\n",
    "while foundWord == False:\n",
    "    foundWord = doSomething()\n",
    "~~~\n",
    "If ```doSomething()``` returns ```False``` it just keeps looping. When ```doSomething``` returns ```True``` it is then assigned to ```foundWord```. On the next loop, ```foundWord``` is true, so ```foundWord == False``` through substitution becomes ```True == False``` which obviously evaluates to ```False``` and the loop breaks. \n",
    "    \n",
    "There are other ways to leave a loop. \n",
    "- **Throw an error**. If the error isn't caught the program will stop, and by implication the loop will stop too. \n",
    "- **Use a break statement**. This will stop the loop. If you are in an 'inner' loop (for example: \n",
    "\n",
    "``` python\n",
    "for i in range(10):\n",
    "    for j in range(10):\n",
    "        do something(i,j)\n",
    "        break\n",
    "```\n",
    "    This will stop the ```j``` loop but not the outer ```i``` loop.  \n",
    "- **Use a continue statement**. Continue doesn't stop the loop but it tells the program to go to the next iterator so that anything under the continue statement inside that loop is not executed.\n",
    "- **Not by using a pass statement**. Sometimes we want to have an if or else condition that simply does nothing (perhaps as a placeholder for later). We cannot just say:\n",
    "\n",
    "``` python\n",
    "for i in range(10): \n",
    "    if i%2==0:\n",
    "    else:\n",
    "        print(i)\n",
    "```\n",
    "instead, you would have to place a pass statement in there. \n",
    "\n",
    "You can see all four of these different ways to exit a loop below."
   ]
  },
  {
   "cell_type": "code",
   "execution_count": 106,
   "metadata": {},
   "outputs": [
    {
     "name": "stdout",
     "output_type": "stream",
     "text": [
      "Leave by throwing an error\n",
      "0\n",
      "value: 0\t value / (value-75): -0.0\n",
      "value: 25\t value / (value-75): -0.5\n",
      "value: 50\t value / (value-75): -2.0\n"
     ]
    },
    {
     "ename": "ZeroDivisionError",
     "evalue": "division by zero",
     "output_type": "error",
     "traceback": [
      "\u001b[1;31m---------------------------------------------------------------------------\u001b[0m",
      "\u001b[1;31mZeroDivisionError\u001b[0m                         Traceback (most recent call last)",
      "\u001b[1;32m<ipython-input-106-2d647e889f1d>\u001b[0m in \u001b[0;36m<module>\u001b[1;34m()\u001b[0m\n\u001b[0;32m      4\u001b[0m     \u001b[0mprint\u001b[0m\u001b[1;33m(\u001b[0m\u001b[0mi\u001b[0m\u001b[1;33m)\u001b[0m\u001b[1;33m\u001b[0m\u001b[0m\n\u001b[0;32m      5\u001b[0m     \u001b[1;32mfor\u001b[0m \u001b[0mj\u001b[0m \u001b[1;32min\u001b[0m \u001b[0mrange\u001b[0m\u001b[1;33m(\u001b[0m\u001b[1;36m0\u001b[0m\u001b[1;33m,\u001b[0m\u001b[1;36m100\u001b[0m\u001b[1;33m,\u001b[0m\u001b[1;36m25\u001b[0m\u001b[1;33m)\u001b[0m\u001b[1;33m:\u001b[0m\u001b[1;33m\u001b[0m\u001b[0m\n\u001b[1;32m----> 6\u001b[1;33m         \u001b[0mprint\u001b[0m\u001b[1;33m(\u001b[0m\u001b[1;34m\"value: %s\\t value / (value-75): %s\"\u001b[0m \u001b[1;33m%\u001b[0m \u001b[1;33m(\u001b[0m\u001b[0mj\u001b[0m\u001b[1;33m,\u001b[0m\u001b[0mj\u001b[0m \u001b[1;33m/\u001b[0m \u001b[1;33m(\u001b[0m\u001b[0mj\u001b[0m\u001b[1;33m-\u001b[0m\u001b[1;36m75\u001b[0m\u001b[1;33m)\u001b[0m \u001b[1;33m)\u001b[0m\u001b[1;33m)\u001b[0m\u001b[1;33m\u001b[0m\u001b[0m\n\u001b[0m\u001b[0;32m      7\u001b[0m     \u001b[0mprint\u001b[0m\u001b[1;33m(\u001b[0m\u001b[1;33m)\u001b[0m\u001b[1;33m\u001b[0m\u001b[0m\n\u001b[0;32m      8\u001b[0m \u001b[1;33m\u001b[0m\u001b[0m\n",
      "\u001b[1;31mZeroDivisionError\u001b[0m: division by zero"
     ]
    }
   ],
   "source": [
    "print(\"Leave by throwing an error\")\n",
    "\n",
    "for i in range(0,4):\n",
    "    print(i)\n",
    "    for j in range(0,100,25):\n",
    "        print(\"value: %s\\t value / (value-75): %s\" % (j,j / (j-75) ))\n",
    "    print()\n",
    "    \n",
    "print(\"Hi, it's the end!\")"
   ]
  },
  {
   "cell_type": "code",
   "execution_count": 107,
   "metadata": {},
   "outputs": [
    {
     "name": "stdout",
     "output_type": "stream",
     "text": [
      "Now with a break statement\n",
      "\n",
      "outer loop 0: inner loop 100\n",
      "outer loop 0: inner loop 102\n",
      "\n",
      "outer loop 1: inner loop 100\n",
      "outer loop 1: inner loop 102\n",
      "\n",
      "outer loop 2: inner loop 100\n",
      "outer loop 2: inner loop 102\n",
      "\n",
      "outer loop 3: inner loop 100\n",
      "outer loop 3: inner loop 102\n",
      "\n",
      "Now with a continue statement\n",
      "\n",
      "outer loop 0: inner loop 100\n",
      "outer loop 0: inner loop 102\n",
      "outer loop 0: inner loop 106\n",
      "outer loop 0: inner loop 108\n",
      "\n",
      "outer loop 1: inner loop 100\n",
      "outer loop 1: inner loop 102\n",
      "outer loop 1: inner loop 106\n",
      "outer loop 1: inner loop 108\n",
      "\n",
      "outer loop 2: inner loop 100\n",
      "outer loop 2: inner loop 102\n",
      "outer loop 2: inner loop 106\n",
      "outer loop 2: inner loop 108\n",
      "\n",
      "outer loop 3: inner loop 100\n",
      "outer loop 3: inner loop 102\n",
      "outer loop 3: inner loop 106\n",
      "outer loop 3: inner loop 108\n",
      "\n",
      "Now with a pass statement:\n",
      "\n",
      "outer loop 0: inner loop 100\n",
      "outer loop 0: inner loop 102\n",
      "outer loop 0: inner loop 104\n",
      "outer loop 0: inner loop 106\n",
      "outer loop 0: inner loop 108\n",
      "\n",
      "outer loop 1: inner loop 100\n",
      "outer loop 1: inner loop 102\n",
      "outer loop 1: inner loop 104\n",
      "outer loop 1: inner loop 106\n",
      "outer loop 1: inner loop 108\n",
      "\n",
      "outer loop 2: inner loop 100\n",
      "outer loop 2: inner loop 102\n",
      "outer loop 2: inner loop 104\n",
      "outer loop 2: inner loop 106\n",
      "outer loop 2: inner loop 108\n",
      "\n",
      "outer loop 3: inner loop 100\n",
      "outer loop 3: inner loop 102\n",
      "outer loop 3: inner loop 104\n",
      "outer loop 3: inner loop 106\n",
      "outer loop 3: inner loop 108\n",
      "\n",
      "Hi, it's the end!\n"
     ]
    }
   ],
   "source": [
    "print(\"Now with a break statement\",end=\"\\n\\n\")\n",
    "for i in range(0,4):\n",
    "    for j in range(100,110,2):\n",
    "        if str(j)[-1] == '4':\n",
    "            break\n",
    "        print(\"outer loop %s: inner loop %s\" % (i, j))\n",
    "    print()\n",
    "\n",
    "print(\"Now with a continue statement\",end=\"\\n\\n\")\n",
    "for i in range(0,4):\n",
    "    for j in range(100,110,2):        \n",
    "        if str(j)[-1] == '4':\n",
    "            continue\n",
    "        print(\"outer loop %s: inner loop %s\" % (i, j))\n",
    "\n",
    "    print()\n",
    "\n",
    "    \n",
    "print(\"Now with a pass statement:\",end=\"\\n\\n\")\n",
    "\n",
    "for i in range(0,4):\n",
    "\n",
    "    for j in range(100,110,2):\n",
    "        if str(j)[-1] == '2':\n",
    "            pass\n",
    "        print(\"outer loop %s: inner loop %s\" % (i, j))\n",
    "    print()\n",
    "    \n",
    "print(\"Hi, it's the end!\")"
   ]
  },
  {
   "cell_type": "markdown",
   "metadata": {},
   "source": [
    "Notice that in the first case, the error happened when we tried to calculate \n",
    "$$ Value / (Value - 75)$$\n",
    "$$75 / (75 - 75)$$\n",
    "$$75 / 0 $$\n",
    "\n",
    "Then it threw an error and exited the entire cell (or in a standalone program it would exit the entire program). That's really not a great approach. \n",
    "\n",
    "In the second case with a ```break``` statement, every time the last digit in the ```j``` iterator was a ```4``` it would break the loop. But notice that the outer loop kept going. ```break``` will break the current loop, not the entire program.  \n",
    "\n",
    "In the third case, ```continue``` would skip the rest of the code _on that iteration_, but not break the loop. In the fourth case, ```pass``` just acts as a placeholder and does not affect the flow. "
   ]
  },
  {
   "cell_type": "markdown",
   "metadata": {},
   "source": [
    "## Advanced topics in loops\n",
    "\n",
    "These are some basic skills about loops. For further concepts about loops, here are some topics worth investigating:\n",
    "- **List comprehensions**: This is how we return a new list by running every element of a collection through a for loop.\n",
    "- **Yield**: This is when we return a result but next time we call a function it starts back where it was in the loop rather than starting from the beginning. \n",
    "- **Generators**: This is what you call a function with a yield statement in it. \n",
    "- **Creating an iterator**: This is how you can make your own data structures iterable. You might create your own ```class``` of object and then want to call it directly in a for loop.\n",
    "- **Halting problem**: This is a [well known](https://en.wikipedia.org/wiki/Halting_problem) proof in computer science to  help reflect on when a loop can finish, if ever. It's an extremely tricky idea, but also very profound as it shows the limits of computability. It is, some have argued, roughly equivalent to Godel's landmark incompleteness theorem but the halting problem is demonstrated using an algorithm."
   ]
  },
  {
   "cell_type": "code",
   "execution_count": null,
   "metadata": {},
   "outputs": [],
   "source": []
  }
 ],
 "metadata": {
  "kernelspec": {
   "display_name": "Python 3",
   "language": "python",
   "name": "python3"
  },
  "language_info": {
   "codemirror_mode": {
    "name": "ipython",
    "version": 3
   },
   "file_extension": ".py",
   "mimetype": "text/x-python",
   "name": "python",
   "nbconvert_exporter": "python",
   "pygments_lexer": "ipython3",
   "version": "3.8.8"
  }
 },
 "nbformat": 4,
 "nbformat_minor": 2
}
