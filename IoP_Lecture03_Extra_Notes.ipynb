{
 "cells": [
  {
   "cell_type": "markdown",
   "metadata": {},
   "source": [
    "# IoP_Lecture03_Extra_Notes"
   ]
  },
  {
   "cell_type": "markdown",
   "metadata": {},
   "source": [
    "In **Exercise 3: The Department of Safe Random Numbers**, we suggested you use the following function to generate a random number from ```0``` to ```N-1```:\n",
    "\n",
    "~~~ python\n",
    "x = np.random.randint(N)\n",
    "~~~\n",
    "\n",
    "If you try to print the type of that variable, you will see that the type of that variable is ```<class 'int'>```. This means ```x``` is an integer."
   ]
  },
  {
   "cell_type": "code",
   "execution_count": 4,
   "metadata": {},
   "outputs": [
    {
     "name": "stdout",
     "output_type": "stream",
     "text": [
      "<class 'int'>\n"
     ]
    }
   ],
   "source": [
    "import numpy as np\n",
    "N = 5\n",
    "\n",
    "x = np.random.randint(N)\n",
    "\n",
    "print( type(x) )"
   ]
  },
  {
   "cell_type": "markdown",
   "metadata": {},
   "source": [
    "Now, some people tried generating the two random numbers at the same time, in this way:\n",
    "\n",
    "~~~ python\n",
    "pair = np.random.randint(N, size=2)\n",
    "x = pair[0]\n",
    "y = pair[1]\n",
    "~~~\n",
    "\n",
    "This size argument is a default argument of the ```randint``` function. When it is set to ```size=2```, it means the output of ```randint``` will be an array with ```2``` elements. You can then look at the type of one of these elements:"
   ]
  },
  {
   "cell_type": "code",
   "execution_count": 6,
   "metadata": {},
   "outputs": [
    {
     "name": "stdout",
     "output_type": "stream",
     "text": [
      "<class 'numpy.int64'>\n"
     ]
    }
   ],
   "source": [
    "N = 5\n",
    "pair = np.random.randint(N, size=2)\n",
    "x = pair[0]\n",
    "y = pair[1]\n",
    "\n",
    "print( type(x) )"
   ]
  },
  {
   "cell_type": "markdown",
   "metadata": {},
   "source": [
    "In this case, you can see that the type of ```x``` is ```<class 'numpy.int64'>```. This also means ```x``` is an integer, but python has more than one way to represent integers. This is because some ways use more space in your computer memory, others allow different functions to be used on them.\n",
    "\n",
    "**Here's an example of that different behaviour.**\n",
    "\n",
    "If you try to divide an ```'int'``` by zero, it gives the ```ZeroDivisionError``` we asked you to catch."
   ]
  },
  {
   "cell_type": "code",
   "execution_count": 7,
   "metadata": {},
   "outputs": [
    {
     "name": "stdout",
     "output_type": "stream",
     "text": [
      "<class 'int'>\n"
     ]
    },
    {
     "ename": "ZeroDivisionError",
     "evalue": "division by zero",
     "output_type": "error",
     "traceback": [
      "\u001b[0;31m---------------------------------------------------------------------------\u001b[0m",
      "\u001b[0;31mZeroDivisionError\u001b[0m                         Traceback (most recent call last)",
      "\u001b[0;32m<ipython-input-7-1b618dae147c>\u001b[0m in \u001b[0;36m<module>\u001b[0;34m()\u001b[0m\n\u001b[1;32m      5\u001b[0m \u001b[0mprint\u001b[0m\u001b[0;34m(\u001b[0m \u001b[0mtype\u001b[0m\u001b[0;34m(\u001b[0m\u001b[0mx\u001b[0m\u001b[0;34m)\u001b[0m \u001b[0;34m)\u001b[0m\u001b[0;34m\u001b[0m\u001b[0m\n\u001b[1;32m      6\u001b[0m \u001b[0;34m\u001b[0m\u001b[0m\n\u001b[0;32m----> 7\u001b[0;31m \u001b[0mprint\u001b[0m\u001b[0;34m(\u001b[0m \u001b[0mx\u001b[0m \u001b[0;34m/\u001b[0m \u001b[0;36m0\u001b[0m \u001b[0;34m)\u001b[0m\u001b[0;34m\u001b[0m\u001b[0m\n\u001b[0m",
      "\u001b[0;31mZeroDivisionError\u001b[0m: division by zero"
     ]
    }
   ],
   "source": [
    "import numpy as np\n",
    "N = 5\n",
    "\n",
    "x = np.random.randint(N)\n",
    "print( type(x) )\n",
    "\n",
    "print( x / 0 )"
   ]
  },
  {
   "cell_type": "markdown",
   "metadata": {},
   "source": [
    "If instead you try to divide a ```'numpy.int64'``` by zero, it does not print ```ZeroDivisionError```.\n",
    "\n",
    "Rather, it prints a warning, namely ```RuntimeWarning: invalid value encountered```."
   ]
  },
  {
   "cell_type": "code",
   "execution_count": 8,
   "metadata": {},
   "outputs": [
    {
     "name": "stdout",
     "output_type": "stream",
     "text": [
      "<class 'numpy.int64'>\n",
      "inf\n"
     ]
    },
    {
     "name": "stderr",
     "output_type": "stream",
     "text": [
      "/usr/local/lib/python3.5/dist-packages/ipykernel_launcher.py:8: RuntimeWarning: divide by zero encountered in long_scalars\n",
      "  \n"
     ]
    }
   ],
   "source": [
    "N = 5\n",
    "pair = np.random.randint(N, size=2)\n",
    "x = pair[0]\n",
    "y = pair[1]\n",
    "\n",
    "print( type(x) )\n",
    "\n",
    "print (x / 0)"
   ]
  },
  {
   "cell_type": "markdown",
   "metadata": {},
   "source": [
    "Notice that it calculated the division anyway. When it attempts to calculate zero divided by zero, it prints ```nan```, which stands for \"not a number\", and when it attempts to divide any other number by zero, it prints ```inf```, which stands for... infinity. It is as if one divided by zero were equal to infinity.\n",
    "\n",
    "So... it does the calculation, but then returns a result that is not really useful. This is because while errors happen when Python really cannot to do something, warnings happen when it doesn't completely refuse your command, but it tries to do it anyway, but since it knows something is off, it decides to just _warn_ you. In this case, by printing ```RuntimeWarning: invalid value encountered```, it's trying to tell you something in your division didn't work.\n",
    "\n",
    "For our exercise, we recommend you use the code we provide in the exercise description:\n",
    "\n",
    "~~~ python\n",
    "x = np.random.randint(N)\n",
    "~~~\n",
    "\n",
    "This should generate the ```ZeroDivisionError``` you need to catch to complete Exercise 3."
   ]
  }
 ],
 "metadata": {
  "kernelspec": {
   "display_name": "Python 3",
   "language": "python",
   "name": "python3"
  },
  "language_info": {
   "codemirror_mode": {
    "name": "ipython",
    "version": 3
   },
   "file_extension": ".py",
   "mimetype": "text/x-python",
   "name": "python",
   "nbconvert_exporter": "python",
   "pygments_lexer": "ipython3",
   "version": "3.8.8"
  }
 },
 "nbformat": 4,
 "nbformat_minor": 2
}
