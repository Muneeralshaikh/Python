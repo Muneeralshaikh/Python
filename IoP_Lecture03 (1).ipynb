{
 "cells": [
  {
   "cell_type": "code",
   "execution_count": null,
   "metadata": {},
   "outputs": [],
   "source": [
    "# Summary from the previous classes: lines starting with a # are comments\n",
    "\n",
    "an_integer_number = 1\n",
    "a_float = 0.33\n",
    "\n",
    "a_string_of_characters = 'abcd'\n",
    "another_string         = \"dcba\"\n",
    "\n",
    "my_list = [ \"apple\", \"banana\", \"coconut\", \"durian\" ]\n",
    "\n",
    "my_dictionary = {\n",
    "                  \"apple\":\"red\",\n",
    "                  \"banana\":\"yellow\",\n",
    "                  \"cherry\":\"red\",\n",
    "                  \"durian\":\"varies\"\n",
    "                }"
   ]
  },
  {
   "cell_type": "code",
   "execution_count": 3,
   "metadata": {},
   "outputs": [
    {
     "name": "stdout",
     "output_type": "stream",
     "text": [
      "I give up.\n"
     ]
    }
   ],
   "source": [
    "# Conditional statements\n",
    "\n",
    "z = 100 + 2\n",
    "\n",
    "if z == 12: \n",
    "    print(\"Hmm...should this be? \")\n",
    "    \n",
    "elif z == 3:\n",
    "    print(\"Okay, I was worried for a second there.\")    \n",
    "    \n",
    "else: \n",
    "    print(\"I give up.\")"
   ]
  },
  {
   "cell_type": "code",
   "execution_count": 4,
   "metadata": {},
   "outputs": [
    {
     "name": "stdout",
     "output_type": "stream",
     "text": [
      "ple-Ap\n",
      "nana-Ba\n",
      "conut-Co\n",
      "rian-Du\n"
     ]
    }
   ],
   "source": [
    "# For loops\n",
    "\n",
    "my_list = [ \"Apple\", \"Banana\", \"Coconut\", \"Durian\" ]\n",
    "\n",
    "for i in my_list:\n",
    "    print( i[2:] + '-' + i[:2] )"
   ]
  },
  {
   "cell_type": "code",
   "execution_count": 5,
   "metadata": {},
   "outputs": [
    {
     "name": "stdout",
     "output_type": "stream",
     "text": [
      "['APPLE', 'BANANA', 'COCONUT', 'DURIAN']\n",
      "['ple-Ap', 'nana-Ba', 'conut-Co', 'rian-Du']\n"
     ]
    }
   ],
   "source": [
    "# List comprehensions\n",
    "\n",
    "capital_list = [ i.upper() for i in my_list ]\n",
    "\n",
    "print(capital_list)\n",
    "\n",
    "scrambled_list = [ i[2:] + '-' + i[:2] for i in my_list ]\n",
    "\n",
    "print(scrambled_list)"
   ]
  },
  {
   "cell_type": "code",
   "execution_count": 7,
   "metadata": {},
   "outputs": [
    {
     "name": "stdout",
     "output_type": "stream",
     "text": [
      "If this line is printed, it means counter < counter_max\n",
      "counter = 10\n",
      "If this line is printed, it means counter < counter_max\n",
      "counter = 20\n",
      "If this line is printed, it means counter < counter_max\n",
      "counter = 30\n",
      "If this line is printed, it means counter < counter_max\n",
      "counter = 40\n",
      "If this line is printed, it means counter < counter_max\n",
      "counter = 50\n",
      "If this line is printed, it means counter < counter_max\n",
      "counter = 60\n",
      "If this line is printed, it means counter < counter_max\n",
      "counter = 70\n",
      "If this line is printed, it means counter < counter_max\n",
      "counter = 80\n",
      "If this line is printed, it means counter < counter_max\n",
      "counter = 90\n",
      "If this line is printed, it means counter < counter_max\n",
      "counter = 100\n"
     ]
    }
   ],
   "source": [
    "# While loops\n",
    "\n",
    "counter = 0\n",
    "counter_max = 99\n",
    "\n",
    "while True:\n",
    "    \n",
    "    print(\"If this line is printed, it means counter < counter_max\")\n",
    "    \n",
    "    counter += 10\n",
    "    \n",
    "    print(\"counter =\", counter)\n",
    "    \n",
    "    if counter > counter_max:\n",
    "        break"
   ]
  },
  {
   "cell_type": "markdown",
   "metadata": {},
   "source": [
    "Lecture 3 - Functions and File I/O\n",
    "===\n",
    "\n",
    "Now that we are familiar with the conditional ins and outs of ```if``` and ```else```, and now that we have iterated many times over our ```for``` loops, it's time to take a step up our ladder of scale and abstraction: how do you make the computer handle unexpected situations, do elaborate tasks repeatedly, or work with other files in your computer?\n",
    "\n",
    "In this lecture we will see:\n",
    "\n",
    "1. Error handling\n",
    "2. Functions\n",
    "3. Opening a file, reading it line by line and closing it \n",
    "4. Writing a file based on data\n",
    "5. Programming outside Jupyter"
   ]
  },
  {
   "cell_type": "markdown",
   "metadata": {},
   "source": [
    "# Section 1. Error handling\n",
    "\n",
    "Let's say you have a list of dictionaries, representing users and their email addresses.\n",
    "\n",
    "~~~ python\n",
    "my_users = [\n",
    "             { 'name':'Mario',  'email':'itsamemario@email.com' },\n",
    "             { 'name':'Bowser', 'email':'kingkoopa@email.com' },\n",
    "             { 'name':'Peach',   'email':'peach.princess@email.com' },\n",
    "             { 'name':'New User' }\n",
    "           ]\n",
    "~~~ \n",
    "\n",
    "Imagine you want to loop over all users, and print their names and emails. It makes sense to use a ```for``` loop:\n",
    "~~~ python\n",
    "for user in my_users:\n",
    "    print( user['name'], user['email'] )\n",
    "   \n",
    "~~~ \n",
    "\n",
    "See what happens:\n"
   ]
  },
  {
   "cell_type": "code",
   "execution_count": 2,
   "metadata": {},
   "outputs": [
    {
     "name": "stdout",
     "output_type": "stream",
     "text": [
      "Mario\n",
      "itsamemario@email.com\n",
      "Bowser\n",
      "kingkoopa@email.com\n",
      "Peach\n",
      "peach.princess@email.com\n"
     ]
    },
    {
     "ename": "KeyError",
     "evalue": "'name'",
     "output_type": "error",
     "traceback": [
      "\u001b[1;31m---------------------------------------------------------------------------\u001b[0m",
      "\u001b[1;31mKeyError\u001b[0m                                  Traceback (most recent call last)",
      "\u001b[1;32m<ipython-input-2-52cf8af6d7df>\u001b[0m in \u001b[0;36m<module>\u001b[1;34m\u001b[0m\n\u001b[0;32m      8\u001b[0m \u001b[1;33m\u001b[0m\u001b[0m\n\u001b[0;32m      9\u001b[0m \u001b[1;32mfor\u001b[0m \u001b[0muser\u001b[0m \u001b[1;32min\u001b[0m \u001b[0mmy_users\u001b[0m\u001b[1;33m:\u001b[0m\u001b[1;33m\u001b[0m\u001b[1;33m\u001b[0m\u001b[0m\n\u001b[1;32m---> 10\u001b[1;33m     \u001b[0mprint\u001b[0m\u001b[1;33m(\u001b[0m \u001b[0muser\u001b[0m\u001b[1;33m[\u001b[0m\u001b[1;34m'name'\u001b[0m\u001b[1;33m]\u001b[0m \u001b[1;33m)\u001b[0m\u001b[1;33m\u001b[0m\u001b[1;33m\u001b[0m\u001b[0m\n\u001b[0m\u001b[0;32m     11\u001b[0m     \u001b[0mprint\u001b[0m\u001b[1;33m(\u001b[0m \u001b[0muser\u001b[0m\u001b[1;33m[\u001b[0m\u001b[1;34m'email'\u001b[0m\u001b[1;33m]\u001b[0m \u001b[1;33m)\u001b[0m\u001b[1;33m\u001b[0m\u001b[1;33m\u001b[0m\u001b[0m\n",
      "\u001b[1;31mKeyError\u001b[0m: 'name'"
     ]
    }
   ],
   "source": [
    "my_users = [\n",
    "             { 'name':'Mario',  'email':'itsamemario@email.com' },\n",
    "             { 'name':'Bowser', 'email':'kingkoopa@email.com' },\n",
    "             { 'name':'Peach',  'email':'peach.princess@email.com' },\n",
    "             {                  'email':'a@b.com' },\n",
    "           ]\n",
    "           \n",
    "    \n",
    "for user in my_users:\n",
    "    print( user['name'] )\n",
    "    print( user['email'] )"
   ]
  },
  {
   "cell_type": "markdown",
   "metadata": {},
   "source": [
    "This code works fine for the first three users, but fails at the last one.\n",
    "\n",
    "This is because ```my_users[3]``` does not have the key ```email``` like the three other users. It only has the key ```name```.\n",
    "\n",
    "Fortunately, in this case we could tell the reason for the error. But what if you had many more users in the list, sometimes missing ```name```, sometimes missing ```email```, sometimes missing both?\n",
    "\n",
    "In python, there is a concept called **error handling**. It is possible to catch an error that you anticipate happening. This is done using the following structure: \n",
    "\n",
    "~~~ python\n",
    "try: \n",
    "    some operation\n",
    "except:\n",
    "    some warning\n",
    "~~~"
   ]
  },
  {
   "cell_type": "markdown",
   "metadata": {},
   "source": [
    "Sometimes you just want to catch a specific problem, like a ```KeyError``` as above. "
   ]
  },
  {
   "cell_type": "code",
   "execution_count": 3,
   "metadata": {},
   "outputs": [
    {
     "name": "stdout",
     "output_type": "stream",
     "text": [
      "Mario itsamemario@email.com\n",
      "Bowser kingkoopa@email.com\n",
      "Peach peach.princess@email.com\n",
      "Incomplete user dictionary, please check: {'email': 'a@b.com'}\n"
     ]
    }
   ],
   "source": [
    "for user in my_users:\n",
    "    try:\n",
    "        print( user['name'], user['email'] )\n",
    "    except KeyError:\n",
    "        print('Incomplete user dictionary, please check:', user)"
   ]
  },
  {
   "cell_type": "markdown",
   "metadata": {},
   "source": [
    "Another specific problem is the ```IndexError```, for when a list does not have the index you are looking for:"
   ]
  },
  {
   "cell_type": "code",
   "execution_count": 4,
   "metadata": {},
   "outputs": [
    {
     "name": "stdout",
     "output_type": "stream",
     "text": [
      "0 10\n",
      "1 40\n",
      "2 50\n"
     ]
    },
    {
     "ename": "IndexError",
     "evalue": "list index out of range",
     "output_type": "error",
     "traceback": [
      "\u001b[1;31m---------------------------------------------------------------------------\u001b[0m",
      "\u001b[1;31mIndexError\u001b[0m                                Traceback (most recent call last)",
      "\u001b[1;32m<ipython-input-4-d37d9cad4df3>\u001b[0m in \u001b[0;36m<module>\u001b[1;34m\u001b[0m\n\u001b[0;32m      2\u001b[0m \u001b[1;33m\u001b[0m\u001b[0m\n\u001b[0;32m      3\u001b[0m \u001b[1;32mfor\u001b[0m \u001b[0mi\u001b[0m \u001b[1;32min\u001b[0m \u001b[0mrange\u001b[0m\u001b[1;33m(\u001b[0m\u001b[1;36m5\u001b[0m\u001b[1;33m)\u001b[0m\u001b[1;33m:\u001b[0m\u001b[1;33m\u001b[0m\u001b[1;33m\u001b[0m\u001b[0m\n\u001b[1;32m----> 4\u001b[1;33m     \u001b[0mprint\u001b[0m\u001b[1;33m(\u001b[0m\u001b[0mi\u001b[0m\u001b[1;33m,\u001b[0m \u001b[0mmy_list\u001b[0m\u001b[1;33m[\u001b[0m\u001b[0mi\u001b[0m\u001b[1;33m]\u001b[0m\u001b[1;33m)\u001b[0m\u001b[1;33m\u001b[0m\u001b[1;33m\u001b[0m\u001b[0m\n\u001b[0m",
      "\u001b[1;31mIndexError\u001b[0m: list index out of range"
     ]
    }
   ],
   "source": [
    "my_list = [10,40,50] # this list has only three elements\n",
    "\n",
    "for i in range(5):\n",
    "    print(i, my_list[i]) \n"
   ]
  },
  {
   "cell_type": "code",
   "execution_count": 5,
   "metadata": {},
   "outputs": [
    {
     "name": "stdout",
     "output_type": "stream",
     "text": [
      "0 10\n",
      "1 40\n",
      "2 50\n",
      "Index 3 is unavailable\n"
     ]
    }
   ],
   "source": [
    "try:\n",
    "    my_list = [10,40,50] # this list has only three elements\n",
    "    \n",
    "    for i in range(5):\n",
    "        print(i, my_list[i])\n",
    "          \n",
    "except IndexError:       \n",
    "    print(\"Index\",i,\"is unavailable\") "
   ]
  },
  {
   "cell_type": "markdown",
   "metadata": {},
   "source": [
    "Note that the code above stops when it reaches index 3. That's how ```except``` works: the moment an _exception_ occurs, it jumps out of the ```try``` clause."
   ]
  },
  {
   "cell_type": "markdown",
   "metadata": {},
   "source": [
    "One last specific problem: division by zero. [You cannot divide by zero.](https://www.youtube.com/watch?v=OFJUYFlSYsM)"
   ]
  },
  {
   "cell_type": "code",
   "execution_count": 5,
   "metadata": {},
   "outputs": [
    {
     "ename": "ZeroDivisionError",
     "evalue": "division by zero",
     "output_type": "error",
     "traceback": [
      "\u001b[0;31m---------------------------------------------------------------------------\u001b[0m",
      "\u001b[0;31mZeroDivisionError\u001b[0m                         Traceback (most recent call last)",
      "\u001b[0;32m<ipython-input-5-9e1622b385b6>\u001b[0m in \u001b[0;36m<module>\u001b[0;34m()\u001b[0m\n\u001b[0;32m----> 1\u001b[0;31m \u001b[0;36m1\u001b[0m\u001b[0;34m/\u001b[0m\u001b[0;36m0\u001b[0m\u001b[0;34m\u001b[0m\u001b[0m\n\u001b[0m",
      "\u001b[0;31mZeroDivisionError\u001b[0m: division by zero"
     ]
    }
   ],
   "source": [
    "1/0"
   ]
  },
  {
   "cell_type": "markdown",
   "metadata": {},
   "source": [
    "The important part is that we can catch the error and move on if we anticipate it and think it's not going to affect future code. See the example below: "
   ]
  },
  {
   "cell_type": "code",
   "execution_count": 26,
   "metadata": {},
   "outputs": [
    {
     "name": "stdout",
     "output_type": "stream",
     "text": [
      "1 / -3 = -0.3333333333333333\n",
      "finished running for -3\n",
      "1 / -2 = -0.5\n",
      "finished running for -2\n",
      "1 / -1 = -1.0\n",
      "finished running for -1\n",
      "Unfortunately I cannot divide by zero\n"
     ]
    }
   ],
   "source": [
    "for i in range(-3,3):\n",
    "\n",
    "    try:\n",
    "        print('1 /', i, '=', 1/i)\n",
    "        \n",
    "    except ZeroDivisionError:\n",
    "        print('Unfortunately I cannot divide by zero')\n",
    "        break\n",
    "        \n",
    "    print(\"finished running for\", i)\n",
    "        "
   ]
  },
  {
   "cell_type": "markdown",
   "metadata": {},
   "source": [
    "In principle, we could just write ```except```, leaving out the type of error (not writing ```ZeroDivisionError``` in this case). This would catch all possible errors. This is not necessarily what we want, since some of those errors might be legitimately concerning, and might help us understand some bug in the code.\n",
    "\n",
    "Error handling with ```try``` and ```except``` statements is particularly useful for dealing with data that might not always come in the shape that you need, like the user without email we saw above."
   ]
  },
  {
   "cell_type": "markdown",
   "metadata": {},
   "source": [
    "# Section 2. Building your own functions \n",
    "\n",
    "In the last lecture, we saw list comprehensions, which are neat ways to construct a new list. For example:\n",
    "\n",
    "~~~ python\n",
    "numbers = range(10)\n",
    "doubles = [ 2*i for i in range(10) ]\n",
    "triples = [ 3*i for i in range(10) ]\n",
    "squares = [ i**2 for i in range(10) ]\n",
    "~~~\n",
    "\n",
    "We can also use functions on the lists we build using list comprehensions, such as:\n",
    "\n",
    "~~~ python\n",
    "my_number = 1984\n",
    "my_number_as_string = str(my_number)\n",
    "list_of_digits = [ int(i) for i in my_number_as_string ]\n",
    "sum_of_digits  = sum(list_of_digits)\n",
    "~~~\n",
    "\n",
    "or, simply:\n",
    "\n",
    "~~~ python\n",
    "my_number = 1984\n",
    "sum_of_digits = sum([ int(i) for i in str(my_number) ])\n",
    "~~~\n",
    "\n",
    "Try it out:"
   ]
  },
  {
   "cell_type": "code",
   "execution_count": null,
   "metadata": {},
   "outputs": [],
   "source": [
    "# Long way:\n",
    "\n",
    "my_number = 1984\n",
    "\n",
    "my_number_as_string = str(my_number)\n",
    "list_of_digits = [ int(i) for i in my_number_as_string ]\n",
    "sum_of_digits  = sum(list_of_digits)\n",
    "\n",
    "print(sum_of_digits)"
   ]
  },
  {
   "cell_type": "code",
   "execution_count": 27,
   "metadata": {},
   "outputs": [],
   "source": [
    "def get_me_my_sum_of_digits(my_number):\n",
    "    my_number_as_string = str(my_number)\n",
    "    list_of_digits = [ int(i) for i in my_number_as_string ]\n",
    "    sum_of_digits  = sum(list_of_digits)\n",
    "    return sum_of_digits"
   ]
  },
  {
   "cell_type": "code",
   "execution_count": 28,
   "metadata": {},
   "outputs": [
    {
     "data": {
      "text/plain": [
       "8"
      ]
     },
     "execution_count": 28,
     "metadata": {},
     "output_type": "execute_result"
    }
   ],
   "source": [
    "x = 17\n",
    "get_me_my_sum_of_digits(17)"
   ]
  },
  {
   "cell_type": "code",
   "execution_count": null,
   "metadata": {},
   "outputs": [],
   "source": [
    "# Short way\n",
    "\n",
    "my_number = 1984\n",
    "\n",
    "sum_of_digits = sum([ int(i) for i in str(my_number) ])\n",
    "\n",
    "print(sum_of_digits)"
   ]
  },
  {
   "cell_type": "code",
   "execution_count": null,
   "metadata": {},
   "outputs": [],
   "source": []
  },
  {
   "cell_type": "markdown",
   "metadata": {},
   "source": [
    "The list comprehension can tighten a for loop, but it has the drawback that you can only apply one function to a variable, like ```int(i)``` or ```2*i```. What if you wanted to do two things, like square a number and format it as a string before returning it? Well: you have to __write your own function__ that does both these things and then returns the value that we wanted. \n",
    "\n",
    "Building your own functions is a crucial part of coding. We have already seen a few functions such as ```print()``` and ```len()```. Without functions, you are left with code that is literally just one command after another. With functions you can abstract away the common parts and just send the novel parts to the function as __arguments__. \n",
    "\n",
    "Below is an example of some repetitive code that we could replace with a function:"
   ]
  },
  {
   "cell_type": "code",
   "execution_count": null,
   "metadata": {},
   "outputs": [],
   "source": [
    "# Here is some code that receives an input number,\n",
    "# and doubles it, but only if it is odd, i.e. not divisible by 2,\n",
    "# and then prints tne input number followed by the output number."
   ]
  },
  {
   "cell_type": "code",
   "execution_count": 29,
   "metadata": {},
   "outputs": [
    {
     "name": "stdout",
     "output_type": "stream",
     "text": [
      "5 10\n"
     ]
    }
   ],
   "source": [
    "# Try with x = 5\n",
    "\n",
    "x = 5\n",
    "\n",
    "if x % 2 == 1: \n",
    "    y = x * 2 \n",
    "else:\n",
    "    y = x\n",
    "    \n",
    "print(x,y)"
   ]
  },
  {
   "cell_type": "code",
   "execution_count": 30,
   "metadata": {},
   "outputs": [
    {
     "name": "stdout",
     "output_type": "stream",
     "text": [
      "8 8\n"
     ]
    }
   ],
   "source": [
    "# Try with x = 8\n",
    "\n",
    "x = 8\n",
    "\n",
    "if x % 2 == 1: \n",
    "    y = x * 2\n",
    "else:\n",
    "    y = x\n",
    "    \n",
    "print(x,y)"
   ]
  },
  {
   "cell_type": "code",
   "execution_count": 31,
   "metadata": {},
   "outputs": [
    {
     "name": "stdout",
     "output_type": "stream",
     "text": [
      "9 18\n"
     ]
    }
   ],
   "source": [
    "# Try with x = 9\n",
    "\n",
    "x = 9\n",
    "\n",
    "if x % 2 == 1: \n",
    "    y = x * 2 \n",
    "else:\n",
    "    y = x\n",
    "    \n",
    "print(x,y)    "
   ]
  },
  {
   "cell_type": "markdown",
   "metadata": {},
   "source": [
    "And now here's a function that does the same job:"
   ]
  },
  {
   "cell_type": "code",
   "execution_count": 46,
   "metadata": {},
   "outputs": [],
   "source": [
    "def doubleIfOdd(xx):\n",
    "\n",
    "    if xx % 2 == 1:\n",
    "        w = xx * 2\n",
    "    else:\n",
    "        w =  xx\n",
    "        \n",
    "    return [ w, xx ]"
   ]
  },
  {
   "cell_type": "code",
   "execution_count": 47,
   "metadata": {},
   "outputs": [
    {
     "data": {
      "text/plain": [
       "[22, 11]"
      ]
     },
     "execution_count": 47,
     "metadata": {},
     "output_type": "execute_result"
    }
   ],
   "source": [
    "x = 11\n",
    "#print( x , doubleIfOdd(x) )\n",
    "\n",
    "doubleIfOdd(x)"
   ]
  },
  {
   "cell_type": "code",
   "execution_count": 35,
   "metadata": {},
   "outputs": [
    {
     "name": "stdout",
     "output_type": "stream",
     "text": [
      "5 10\n",
      "8 8\n",
      "9 18\n"
     ]
    }
   ],
   "source": [
    "for x in [5, 8, 9]:\n",
    "    y = doubleIfOdd(x) \n",
    "    print(x, y)"
   ]
  },
  {
   "cell_type": "markdown",
   "metadata": {},
   "source": [
    "See? Easy. This is a much more _parsimonious_ (few lines of code) way to solve the task. This means it's easier to read, but also fewer places to make mistakes."
   ]
  },
  {
   "cell_type": "markdown",
   "metadata": {},
   "source": [
    "## Important notes on functions \n",
    "\n",
    "### Note 1. Variables have a \"scope\". \n",
    "A variable that is created inside of a function is not the same as the one created outside of that function even if they have the same name. This is because the variable inside the function is a __local__ variable, meaning that it only exists\\* within the function. Variables created in jupyter are typically treated as __global__ variables (meaning they exist everywhere) if they are created in a cell but not inside a function. __Local__ and __global__ are what we call the \"scope\" of a variable. For some examples, see below.\n",
    "\n",
    "\\* - For further questions about ontology, please consult your local philosopher."
   ]
  },
  {
   "cell_type": "code",
   "execution_count": null,
   "metadata": {},
   "outputs": [],
   "source": [
    "# Local / Global scope example 1: a variable defined inside the function stays in there.\n",
    "\n",
    "def doubleMyNumber(input_number):\n",
    "    dummy_variable = input_number * 2\n",
    "    print(\"Inside the function,\", dummy_variable)\n",
    "    return dummy_variable \n",
    "\n",
    "x = 4 \n",
    "print( \"Before the function, x =\", x)\n",
    "\n",
    "doubled_number = doubleMyNumber(x)\n",
    "\n",
    "print(\"After the function, x =\", x)\n",
    "print(\"doubled_number =\", doubled_number)"
   ]
  },
  {
   "cell_type": "code",
   "execution_count": 11,
   "metadata": {},
   "outputs": [
    {
     "ename": "NameError",
     "evalue": "name 'input_number' is not defined",
     "output_type": "error",
     "traceback": [
      "\u001b[0;31m---------------------------------------------------------------------------\u001b[0m",
      "\u001b[0;31mNameError\u001b[0m                                 Traceback (most recent call last)",
      "\u001b[0;32m<ipython-input-11-130c78bf17bf>\u001b[0m in \u001b[0;36m<module>\u001b[0;34m()\u001b[0m\n\u001b[0;32m----> 1\u001b[0;31m \u001b[0mprint\u001b[0m\u001b[0;34m(\u001b[0m \u001b[0minput_number\u001b[0m \u001b[0;34m)\u001b[0m\u001b[0;34m\u001b[0m\u001b[0m\n\u001b[0m",
      "\u001b[0;31mNameError\u001b[0m: name 'input_number' is not defined"
     ]
    }
   ],
   "source": [
    "print( input_number )"
   ]
  },
  {
   "cell_type": "markdown",
   "metadata": {},
   "source": [
    "But ```x``` wasn't the argument, input_number was. So what if we change input number inside the function? "
   ]
  },
  {
   "cell_type": "code",
   "execution_count": 16,
   "metadata": {},
   "outputs": [
    {
     "name": "stdout",
     "output_type": "stream",
     "text": [
      "Before the function, x = 4\n",
      "Inside the function, input_number = 33\n",
      "output_number = 8\n"
     ]
    },
    {
     "ename": "NameError",
     "evalue": "name 'input_number' is not defined",
     "output_type": "error",
     "traceback": [
      "\u001b[0;31m---------------------------------------------------------------------------\u001b[0m",
      "\u001b[0;31mNameError\u001b[0m                                 Traceback (most recent call last)",
      "\u001b[0;32m<ipython-input-16-fe1ae219212b>\u001b[0m in \u001b[0;36m<module>\u001b[0;34m\u001b[0m\n\u001b[1;32m     14\u001b[0m \u001b[0mprint\u001b[0m\u001b[0;34m(\u001b[0m\u001b[0;34m\"output_number =\"\u001b[0m\u001b[0;34m,\u001b[0m \u001b[0moutput_number\u001b[0m\u001b[0;34m)\u001b[0m\u001b[0;34m\u001b[0m\u001b[0;34m\u001b[0m\u001b[0m\n\u001b[1;32m     15\u001b[0m \u001b[0;34m\u001b[0m\u001b[0m\n\u001b[0;32m---> 16\u001b[0;31m \u001b[0mprint\u001b[0m\u001b[0;34m(\u001b[0m\u001b[0;34m\"After the function, input_number =\"\u001b[0m\u001b[0;34m,\u001b[0m \u001b[0minput_number\u001b[0m\u001b[0;34m)\u001b[0m\u001b[0;34m\u001b[0m\u001b[0;34m\u001b[0m\u001b[0m\n\u001b[0m",
      "\u001b[0;31mNameError\u001b[0m: name 'input_number' is not defined"
     ]
    }
   ],
   "source": [
    "# Local / Global scope example 2: argument sent to a function is only valid inside the function.\n",
    "\n",
    "x = 4 \n",
    "print(\"Before the function, x =\", x)\n",
    "\n",
    "def multiplyTheValue(input_number):\n",
    "    x = input_number * 2\n",
    "    input_number = 33\n",
    "    print(\"Inside the function, input_number =\", input_number)\n",
    "    return x \n",
    "\n",
    "output_number = multiplyTheValue(x)\n",
    "\n",
    "print(\"output_number =\", output_number)\n",
    "\n",
    "print(\"After the function, input_number =\", input_number)"
   ]
  },
  {
   "cell_type": "markdown",
   "metadata": {},
   "source": [
    "It seems that it is still the case. We changed ```input_number``` to 33 inside the function. Yet, when we print it outside of the function, it throws an error. This is because we created ```input_number``` inside the function, so it isn't available outside the function unless we explicitly make it available (which is often a very bad idea that leads to all sorts of unexpected issues). "
   ]
  },
  {
   "cell_type": "code",
   "execution_count": 56,
   "metadata": {},
   "outputs": [],
   "source": [
    "# Local / Global scope example 3: \"Casting\" a variable as global makes it available outside the function.\n",
    "\n",
    "def multiplyTheValue(input_number):\n",
    "    x = input_number * 2\n",
    "    print(\"Inside the function, x =\", x)\n",
    "    return dog"
   ]
  },
  {
   "cell_type": "code",
   "execution_count": 57,
   "metadata": {},
   "outputs": [
    {
     "name": "stdout",
     "output_type": "stream",
     "text": [
      "Before the function, x = 4\n",
      "Inside the function, x = 20\n"
     ]
    },
    {
     "ename": "NameError",
     "evalue": "name 'dog' is not defined",
     "output_type": "error",
     "traceback": [
      "\u001b[1;31m---------------------------------------------------------------------------\u001b[0m",
      "\u001b[1;31mNameError\u001b[0m                                 Traceback (most recent call last)",
      "\u001b[1;32m<ipython-input-57-ebbea1537476>\u001b[0m in \u001b[0;36m<module>\u001b[1;34m\u001b[0m\n\u001b[0;32m      2\u001b[0m \u001b[0mprint\u001b[0m\u001b[1;33m(\u001b[0m\u001b[1;34m\"Before the function, x =\"\u001b[0m\u001b[1;33m,\u001b[0m \u001b[0mx\u001b[0m\u001b[1;33m)\u001b[0m\u001b[1;33m\u001b[0m\u001b[1;33m\u001b[0m\u001b[0m\n\u001b[0;32m      3\u001b[0m \u001b[1;33m\u001b[0m\u001b[0m\n\u001b[1;32m----> 4\u001b[1;33m \u001b[0moutput_number\u001b[0m \u001b[1;33m=\u001b[0m \u001b[0mmultiplyTheValue\u001b[0m\u001b[1;33m(\u001b[0m\u001b[1;36m10\u001b[0m\u001b[1;33m)\u001b[0m\u001b[1;33m\u001b[0m\u001b[1;33m\u001b[0m\u001b[0m\n\u001b[0m\u001b[0;32m      5\u001b[0m \u001b[0mprint\u001b[0m\u001b[1;33m(\u001b[0m\u001b[1;34m\"output_number =\"\u001b[0m\u001b[1;33m,\u001b[0m \u001b[0moutput_number\u001b[0m\u001b[1;33m)\u001b[0m\u001b[1;33m\u001b[0m\u001b[1;33m\u001b[0m\u001b[0m\n\u001b[0;32m      6\u001b[0m \u001b[1;33m\u001b[0m\u001b[0m\n",
      "\u001b[1;32m<ipython-input-56-ef30f9db3b1d>\u001b[0m in \u001b[0;36mmultiplyTheValue\u001b[1;34m(input_number)\u001b[0m\n\u001b[0;32m      4\u001b[0m     \u001b[0mx\u001b[0m \u001b[1;33m=\u001b[0m \u001b[0minput_number\u001b[0m \u001b[1;33m*\u001b[0m \u001b[1;36m2\u001b[0m\u001b[1;33m\u001b[0m\u001b[1;33m\u001b[0m\u001b[0m\n\u001b[0;32m      5\u001b[0m     \u001b[0mprint\u001b[0m\u001b[1;33m(\u001b[0m\u001b[1;34m\"Inside the function, x =\"\u001b[0m\u001b[1;33m,\u001b[0m \u001b[0mx\u001b[0m\u001b[1;33m)\u001b[0m\u001b[1;33m\u001b[0m\u001b[1;33m\u001b[0m\u001b[0m\n\u001b[1;32m----> 6\u001b[1;33m     \u001b[1;32mreturn\u001b[0m \u001b[0mdog\u001b[0m\u001b[1;33m\u001b[0m\u001b[1;33m\u001b[0m\u001b[0m\n\u001b[0m",
      "\u001b[1;31mNameError\u001b[0m: name 'dog' is not defined"
     ]
    }
   ],
   "source": [
    "x = 4\n",
    "print(\"Before the function, x =\", x)\n",
    "\n",
    "output_number = multiplyTheValue(10)\n",
    "print(\"output_number =\", output_number)\n",
    "\n",
    "print(\"After the function, x =\", x)"
   ]
  },
  {
   "cell_type": "markdown",
   "metadata": {},
   "source": [
    "### Note 2. There are all kinds of ways of passing data to a function. \n",
    "\n",
    "\n",
    "Functions can take more than one input. Here are some things we can do with inputs: \n",
    "\n",
    "**1. Just give it a name.**"
   ]
  },
  {
   "cell_type": "code",
   "execution_count": 58,
   "metadata": {},
   "outputs": [],
   "source": [
    "def sumThreeNumbers( input1, input2, input3 ):\n",
    "    \n",
    "    output = input1 + input2 + input3\n",
    "    \n",
    "    return output"
   ]
  },
  {
   "cell_type": "code",
   "execution_count": 59,
   "metadata": {},
   "outputs": [
    {
     "name": "stdout",
     "output_type": "stream",
     "text": [
      "150\n"
     ]
    }
   ],
   "source": [
    "b = 100\n",
    "\n",
    "my_sum = sumThreeNumbers(b,20,30)\n",
    "\n",
    "print( my_sum )"
   ]
  },
  {
   "cell_type": "code",
   "execution_count": 60,
   "metadata": {},
   "outputs": [
    {
     "name": "stdout",
     "output_type": "stream",
     "text": [
      "150\n"
     ]
    }
   ],
   "source": [
    "print( sumThreeNumbers(100, 20, 30) )"
   ]
  },
  {
   "cell_type": "markdown",
   "metadata": {},
   "source": [
    "**2. Give it a name and a default value.**"
   ]
  },
  {
   "cell_type": "code",
   "execution_count": 6,
   "metadata": {},
   "outputs": [
    {
     "name": "stdout",
     "output_type": "stream",
     "text": [
      "mario@email.com\n",
      "mario@mydomain.com\n"
     ]
    }
   ],
   "source": [
    "def myEmail( name, domain='email.com' ):\n",
    "    return name + '@' + domain\n",
    "\n",
    "\n",
    "newemail = myEmail(\"mario\")\n",
    "print(newemail)\n",
    "\n",
    "newemail = myEmail(\"mario\", domain=\"mydomain.com\")\n",
    "print(newemail)"
   ]
  },
  {
   "cell_type": "markdown",
   "metadata": {},
   "source": [
    "**3. Leave it ambiguous as a list of values. You'll have to query these in order.**"
   ]
  },
  {
   "cell_type": "code",
   "execution_count": 66,
   "metadata": {},
   "outputs": [],
   "source": [
    "def printShoppingList( shop_name, *args ):\n",
    "    \n",
    "    output = 'I went to ' + shop_name\n",
    "    \n",
    "    if len(args) == 0: # If there are no extra arguments\n",
    "        print(output)\n",
    "        \n",
    "    else:\n",
    "        output += ' and bought:'\n",
    "        print(output)        \n",
    "        for i in args:\n",
    "            print(i)"
   ]
  },
  {
   "cell_type": "code",
   "execution_count": 67,
   "metadata": {},
   "outputs": [
    {
     "name": "stdout",
     "output_type": "stream",
     "text": [
      "I went to Tesco\n"
     ]
    }
   ],
   "source": [
    "printShoppingList(\"Tesco\")"
   ]
  },
  {
   "cell_type": "code",
   "execution_count": 70,
   "metadata": {},
   "outputs": [
    {
     "name": "stdout",
     "output_type": "stream",
     "text": [
      "I went to Sainsbury's and bought:\n",
      "apples\n",
      "bananas\n",
      "a lot of candy\n",
      "10\n"
     ]
    }
   ],
   "source": [
    "printShoppingList(\"Sainsbury's\", \"apples\", \"bananas\", \"a lot of candy\", 10)"
   ]
  },
  {
   "cell_type": "markdown",
   "metadata": {},
   "source": [
    "**4. Provide a dictionary of variable names and values. You'll have to query these by key.**"
   ]
  },
  {
   "cell_type": "code",
   "execution_count": 72,
   "metadata": {},
   "outputs": [],
   "source": [
    "def myOnlineProfile( username, kwargs ):\n",
    "    print('user \\t', username )\n",
    "    \n",
    "    for i,j in kwargs.items():\n",
    "        print(i, '\\t',  j)"
   ]
  },
  {
   "cell_type": "code",
   "execution_count": 73,
   "metadata": {},
   "outputs": [
    {
     "name": "stdout",
     "output_type": "stream",
     "text": [
      "user \t Black Panther\n",
      "firstname \t T'Challa\n",
      "job \t super hero and king\n"
     ]
    }
   ],
   "source": [
    "myOnlineProfile( \"Black Panther\", {'firstname':\"T'Challa\", 'job':\"super hero and king\"} )"
   ]
  },
  {
   "cell_type": "code",
   "execution_count": null,
   "metadata": {},
   "outputs": [],
   "source": [
    "# In that case, this doesn't work\n",
    "myOnlineProfile( 'Batman', name='Bruce Banner', city='Gotham city', powers='super money' )"
   ]
  },
  {
   "cell_type": "markdown",
   "metadata": {},
   "source": [
    "If you want to know more, [this link](https://www.protechtraining.com/content/python_fundamentals_tutorial-functions) gives a nice simple overview of these sorts of arguments."
   ]
  },
  {
   "cell_type": "markdown",
   "metadata": {},
   "source": [
    "## Exercise\n",
    "Let's combine ```try``` and ```except``` statements with functions. Here's a function that multiplies two numbers by two and adds them:"
   ]
  },
  {
   "cell_type": "code",
   "execution_count": 74,
   "metadata": {},
   "outputs": [],
   "source": [
    "def doubleAndAdd(number1,number2): \n",
    "    return 2*number1 + 2*number2"
   ]
  },
  {
   "cell_type": "code",
   "execution_count": 75,
   "metadata": {},
   "outputs": [
    {
     "name": "stdout",
     "output_type": "stream",
     "text": [
      "16\n"
     ]
    }
   ],
   "source": [
    "result = doubleAndAdd(5,3)\n",
    "print(result)"
   ]
  },
  {
   "cell_type": "markdown",
   "metadata": {},
   "source": [
    "Now try running the above function by filling in the inputs as required below:"
   ]
  },
  {
   "cell_type": "code",
   "execution_count": 76,
   "metadata": {},
   "outputs": [
    {
     "name": "stdout",
     "output_type": "stream",
     "text": [
      "60\n"
     ]
    }
   ],
   "source": [
    "# 1. Two ints  \n",
    "result = doubleAndAdd( 10, 20 )\n",
    "print(result)"
   ]
  },
  {
   "cell_type": "code",
   "execution_count": 77,
   "metadata": {},
   "outputs": [
    {
     "name": "stdout",
     "output_type": "stream",
     "text": [
      "aabb\n"
     ]
    }
   ],
   "source": [
    "# 2. Two strings\n",
    "result = doubleAndAdd( 'a' , 'b' )\n",
    "print(result)"
   ]
  },
  {
   "cell_type": "code",
   "execution_count": 78,
   "metadata": {},
   "outputs": [
    {
     "ename": "TypeError",
     "evalue": "can only concatenate str (not \"int\") to str",
     "output_type": "error",
     "traceback": [
      "\u001b[1;31m---------------------------------------------------------------------------\u001b[0m",
      "\u001b[1;31mTypeError\u001b[0m                                 Traceback (most recent call last)",
      "\u001b[1;32m<ipython-input-78-1287257faa41>\u001b[0m in \u001b[0;36m<module>\u001b[1;34m\u001b[0m\n\u001b[0;32m      1\u001b[0m \u001b[1;31m#3. A string and an int.\u001b[0m\u001b[1;33m\u001b[0m\u001b[1;33m\u001b[0m\u001b[1;33m\u001b[0m\u001b[0m\n\u001b[1;32m----> 2\u001b[1;33m \u001b[0mresult\u001b[0m \u001b[1;33m=\u001b[0m \u001b[0mdoubleAndAdd\u001b[0m\u001b[1;33m(\u001b[0m \u001b[1;34m'a'\u001b[0m \u001b[1;33m,\u001b[0m \u001b[1;36m1\u001b[0m \u001b[1;33m)\u001b[0m\u001b[1;33m\u001b[0m\u001b[1;33m\u001b[0m\u001b[0m\n\u001b[0m\u001b[0;32m      3\u001b[0m \u001b[0mprint\u001b[0m\u001b[1;33m(\u001b[0m\u001b[0mresult\u001b[0m\u001b[1;33m)\u001b[0m\u001b[1;33m\u001b[0m\u001b[1;33m\u001b[0m\u001b[0m\n",
      "\u001b[1;32m<ipython-input-74-8164ec406422>\u001b[0m in \u001b[0;36mdoubleAndAdd\u001b[1;34m(number1, number2)\u001b[0m\n\u001b[0;32m      1\u001b[0m \u001b[1;32mdef\u001b[0m \u001b[0mdoubleAndAdd\u001b[0m\u001b[1;33m(\u001b[0m\u001b[0mnumber1\u001b[0m\u001b[1;33m,\u001b[0m\u001b[0mnumber2\u001b[0m\u001b[1;33m)\u001b[0m\u001b[1;33m:\u001b[0m\u001b[1;33m\u001b[0m\u001b[1;33m\u001b[0m\u001b[0m\n\u001b[1;32m----> 2\u001b[1;33m     \u001b[1;32mreturn\u001b[0m \u001b[1;36m2\u001b[0m\u001b[1;33m*\u001b[0m\u001b[0mnumber1\u001b[0m \u001b[1;33m+\u001b[0m \u001b[1;36m2\u001b[0m\u001b[1;33m*\u001b[0m\u001b[0mnumber2\u001b[0m\u001b[1;33m\u001b[0m\u001b[1;33m\u001b[0m\u001b[0m\n\u001b[0m",
      "\u001b[1;31mTypeError\u001b[0m: can only concatenate str (not \"int\") to str"
     ]
    }
   ],
   "source": [
    "#3. A string and an int. \n",
    "result = doubleAndAdd( 'a' , 1 )\n",
    "print(result)"
   ]
  },
  {
   "cell_type": "markdown",
   "metadata": {},
   "source": [
    "Notice how in the last case it did not print, but rather threw up an error? That's because the function did not check the type of data ahead of time. \n",
    "\n",
    "In a function we can deal with this in a number of ways. For example we could: \n",
    "\n",
    "1. Convert all mixed types to strings \n",
    "2. Convert strings to integers\n",
    "3. Return FALSE if there is a mixed type\n",
    "4. Catch unexpected behavior\n",
    "\n",
    "Let's build a more robust function. It won't be perfect, but it will be an improvement."
   ]
  },
  {
   "cell_type": "code",
   "execution_count": 79,
   "metadata": {},
   "outputs": [
    {
     "name": "stdout",
     "output_type": "stream",
     "text": [
      "16\n",
      "FiveFiveThreeThree\n",
      "False\n"
     ]
    }
   ],
   "source": [
    "def doubleAndAdd_2(val1,val2):\n",
    "    \n",
    "    if type(val1) == type(val2):\n",
    "        return 2*val1 + 2*val2\n",
    "    \n",
    "    else:\n",
    "        return False\n",
    "\n",
    "print( doubleAndAdd_2(5,3) )\n",
    "\n",
    "print( doubleAndAdd_2(\"Five\",\"Three\") )\n",
    "\n",
    "print( doubleAndAdd_2(\"Five\",3) )\n"
   ]
  },
  {
   "cell_type": "code",
   "execution_count": null,
   "metadata": {},
   "outputs": [],
   "source": [
    "# EXERCISE \n",
    "# Try to build the function using try / except statements. \n",
    "# In this case, the function should ONLY double and add numbers, and NOT concatenate strings.\n",
    "# Write a function that return False if it can't double and add its inputs.\n",
    "\n",
    "# FUNCTION 3\n",
    "def doubleAndAdd_3(val1,val2):\n",
    "    ...?\n",
    "\n",
    "print(f2add(5,6))\n",
    "\n",
    "print(f2add(\"Five\",\"Six\"))\n",
    "\n",
    "print(f2add(\"Five\",6))"
   ]
  },
  {
   "cell_type": "code",
   "execution_count": 81,
   "metadata": {},
   "outputs": [
    {
     "ename": "TypeError",
     "evalue": "argument of type 'int' is not iterable",
     "output_type": "error",
     "traceback": [
      "\u001b[1;31m---------------------------------------------------------------------------\u001b[0m",
      "\u001b[1;31mTypeError\u001b[0m                                 Traceback (most recent call last)",
      "\u001b[1;32m<ipython-input-81-820cd61a2917>\u001b[0m in \u001b[0;36m<module>\u001b[1;34m\u001b[0m\n\u001b[0;32m      6\u001b[0m \u001b[0mfirstlist\u001b[0m \u001b[1;33m=\u001b[0m \u001b[1;33m[\u001b[0m\u001b[1;36m7\u001b[0m\u001b[1;33m,\u001b[0m \u001b[1;36m10\u001b[0m\u001b[1;33m,\u001b[0m \u001b[1;36m3\u001b[0m\u001b[1;33m,\u001b[0m \u001b[1;36m15\u001b[0m\u001b[1;33m,\u001b[0m \u001b[1;36m2\u001b[0m\u001b[1;33m,\u001b[0m \u001b[1;36m4\u001b[0m\u001b[1;33m]\u001b[0m \u001b[1;31m# <--- this list includes the number 3\u001b[0m\u001b[1;33m\u001b[0m\u001b[1;33m\u001b[0m\u001b[0m\n\u001b[0;32m      7\u001b[0m \u001b[1;33m\u001b[0m\u001b[0m\n\u001b[1;32m----> 8\u001b[1;33m \u001b[0mresult\u001b[0m \u001b[1;33m=\u001b[0m \u001b[0mhas_number_3\u001b[0m\u001b[1;33m(\u001b[0m\u001b[1;36m3\u001b[0m\u001b[1;33m)\u001b[0m\u001b[1;33m\u001b[0m\u001b[1;33m\u001b[0m\u001b[0m\n\u001b[0m\u001b[0;32m      9\u001b[0m \u001b[0mprint\u001b[0m\u001b[1;33m(\u001b[0m\u001b[0mresult\u001b[0m\u001b[1;33m)\u001b[0m\u001b[1;33m\u001b[0m\u001b[1;33m\u001b[0m\u001b[0m\n",
      "\u001b[1;32m<ipython-input-81-820cd61a2917>\u001b[0m in \u001b[0;36mhas_number_3\u001b[1;34m(x)\u001b[0m\n\u001b[0;32m      2\u001b[0m \u001b[1;33m\u001b[0m\u001b[0m\n\u001b[0;32m      3\u001b[0m \u001b[1;32mdef\u001b[0m \u001b[0mhas_number_3\u001b[0m\u001b[1;33m(\u001b[0m\u001b[0mx\u001b[0m\u001b[1;33m)\u001b[0m\u001b[1;33m:\u001b[0m\u001b[1;33m\u001b[0m\u001b[1;33m\u001b[0m\u001b[0m\n\u001b[1;32m----> 4\u001b[1;33m     \u001b[1;32mreturn\u001b[0m \u001b[1;33m(\u001b[0m \u001b[1;36m3\u001b[0m \u001b[1;32min\u001b[0m \u001b[0mx\u001b[0m \u001b[1;33m)\u001b[0m \u001b[1;31m# <--- this is asking \"is the number 3 in my list\"\u001b[0m\u001b[1;33m\u001b[0m\u001b[1;33m\u001b[0m\u001b[0m\n\u001b[0m\u001b[0;32m      5\u001b[0m \u001b[1;33m\u001b[0m\u001b[0m\n\u001b[0;32m      6\u001b[0m \u001b[0mfirstlist\u001b[0m \u001b[1;33m=\u001b[0m \u001b[1;33m[\u001b[0m\u001b[1;36m7\u001b[0m\u001b[1;33m,\u001b[0m \u001b[1;36m10\u001b[0m\u001b[1;33m,\u001b[0m \u001b[1;36m3\u001b[0m\u001b[1;33m,\u001b[0m \u001b[1;36m15\u001b[0m\u001b[1;33m,\u001b[0m \u001b[1;36m2\u001b[0m\u001b[1;33m,\u001b[0m \u001b[1;36m4\u001b[0m\u001b[1;33m]\u001b[0m \u001b[1;31m# <--- this list includes the number 3\u001b[0m\u001b[1;33m\u001b[0m\u001b[1;33m\u001b[0m\u001b[0m\n",
      "\u001b[1;31mTypeError\u001b[0m: argument of type 'int' is not iterable"
     ]
    }
   ],
   "source": [
    "# BONUS: You can give any input to a function. For example, a list.\n",
    "\n",
    "def has_number_3(x):\n",
    "    return ( 3 in x ) # <--- this is asking \"is the number 3 in my list\"\n",
    "\n",
    "firstlist = [7, 10, 3, 15, 2, 4] # <--- this list includes the number 3\n",
    "\n",
    "result = has_number_3(3)\n",
    "print(result)"
   ]
  },
  {
   "cell_type": "code",
   "execution_count": 82,
   "metadata": {},
   "outputs": [
    {
     "name": "stdout",
     "output_type": "stream",
     "text": [
      "False\n"
     ]
    }
   ],
   "source": [
    "secondlist = ['3', 33, '333', [3], [1,2,3] ] # this list includes a lot of things,\n",
    "                                             # even other lists which contain the number 3,\n",
    "                                             # but not the number 3 alone\n",
    "\n",
    "result = has_number_3(secondlist)\n",
    "print(result)"
   ]
  },
  {
   "cell_type": "markdown",
   "metadata": {},
   "source": [
    "That's all about functions. There is much more, of course, now let's move to a different topic.\n",
    "\n",
    "____________"
   ]
  },
  {
   "cell_type": "markdown",
   "metadata": {},
   "source": [
    "# Section 3: File Input/Output\n",
    "\n",
    "Manipulating data requires manipulating files that contain data. Opening files in python is relatively straightforward. To open a file in python we create a 'file handler'. There are a couple ways of doing this. Virtually all involve the basic format of:\n",
    "\n",
    "~~~ python\n",
    "my_file = open('PATH_TO_MY_FILE','r'/'w'/'a')\n",
    "~~~\n",
    "\n",
    "Above, the ```'r'```, ```'w'``` or ```'a'``` respectively stand for:\n",
    "- 'read', for when you only want to read a file,\n",
    "- 'write', for when you want to write to a file, overwriting it if there's anything already there,\n",
    "- 'append', for when you want to write to the end of the file, without overwriting what's already in there. \n"
   ]
  },
  {
   "cell_type": "code",
   "execution_count": 85,
   "metadata": {},
   "outputs": [],
   "source": [
    "# Open a file and read it in one go:\n",
    "\n",
    "my_file = open(\"example_file.txt\",'r')"
   ]
  },
  {
   "cell_type": "code",
   "execution_count": 83,
   "metadata": {},
   "outputs": [
    {
     "name": "stdout",
     "output_type": "stream",
     "text": [
      "apples,red\n",
      "pears,green\n",
      "grapes,purple\n",
      "oranges,orange\n"
     ]
    }
   ],
   "source": [
    "x = my_file.read()\n",
    "\n",
    "print( x )\n",
    "\n",
    "my_file.close()"
   ]
  },
  {
   "cell_type": "markdown",
   "metadata": {},
   "source": [
    "If we want to read the file line by line, then we can do that with a for loop. As in \n",
    "~~~ python\n",
    "for line in my_file:\n",
    "    do something\n",
    "~~~\n",
    "This will iterate through the file and stop when there's no file left. At the end, it's a good to \"close\" the file:\n",
    "\n",
    "~~~ python\n",
    "filein.close()\n",
    "~~~"
   ]
  },
  {
   "cell_type": "code",
   "execution_count": 87,
   "metadata": {},
   "outputs": [
    {
     "name": "stdout",
     "output_type": "stream",
     "text": [
      "apples,red\n",
      "\n",
      "pears,green\n",
      "\n",
      "grapes,purple\n",
      "\n",
      "oranges,orange\n"
     ]
    }
   ],
   "source": [
    "# Open a file and read it line by line:\n",
    "\n",
    "my_file = open(\"example_file.txt\",'r')\n",
    "\n",
    "for line in my_file: \n",
    "    print( line )\n",
    "\n",
    "my_file.close()"
   ]
  },
  {
   "cell_type": "markdown",
   "metadata": {},
   "source": [
    "Notice the differences between the output from the first read all, and the second, read line by line:\n",
    "~~~ python\n",
    "apples,red\n",
    "pears,green\n",
    "grapes,purple\n",
    "oranges,orange\n",
    "~~~\n",
    "\n",
    "and \n",
    "~~~ python\n",
    "apples,red\n",
    "\n",
    "pears,green\n",
    "\n",
    "grapes,purple\n",
    "\n",
    "oranges,orange\n",
    "\n",
    "~~~\n",
    "\n",
    "What do you think accounts for the extra spaces between lines?\n",
    "\n",
    "\n",
    "When the file reads a line, it breaks at the new line character, but it doesn't remove the character. So when we read the file line by line it keeps them in. There are a couple ways to deal with this. At first instinct you might think...just strip out the last character like so: \n",
    "\n",
    "~~~ python\n",
    "filein = open(\"example_file.txt\",'r')\n",
    "\n",
    "for i in filein: \n",
    "    print(i[:-1]) # Remember [:-1] is slicing the last character.\n",
    "~~~\n",
    "\n",
    "This will normally work, but Windows sometimes puts TWO hidden characters at the end \"\\r\\n\". To be safe, this works better:\n",
    "\n",
    "~~~ python\n",
    "filein = open(\"example_file.txt\",'r')\n",
    "\n",
    "for i in filein: \n",
    "    print(i.strip()) # Return the string without trailing whitespace characters\n",
    "~~~\n",
    "\n",
    "Finally, it's important to close files afterwards. One way to guarantee this happens is to read files in the following way. \n",
    "\n",
    "~~~ python\n",
    "with open(\"example_file.txt\") as filein:\n",
    "    for line in filein:\n",
    "        print(line.strip())\n",
    "~~~\n",
    "\n",
    "Note the use of ```with``` in the code above.\n",
    "\n",
    "That is another way to open the file, do everything you have to do, and close it."
   ]
  },
  {
   "cell_type": "code",
   "execution_count": 26,
   "metadata": {},
   "outputs": [
    {
     "name": "stdout",
     "output_type": "stream",
     "text": [
      "apples,red\n",
      "pears,green\n",
      "grapes,purple\n",
      "oranges,orange\n"
     ]
    }
   ],
   "source": [
    "# Try it yourself! \n",
    "\n",
    "with open(\"example_file.txt\", \"r\") as f:\n",
    "    for line in f:\n",
    "        print( line.strip() )"
   ]
  },
  {
   "cell_type": "markdown",
   "metadata": {},
   "source": [
    "**Exercise:** read the file then ***split*** each line into a list so that you only print the fruit, not the color. "
   ]
  },
  {
   "cell_type": "code",
   "execution_count": 98,
   "metadata": {},
   "outputs": [
    {
     "name": "stdout",
     "output_type": "stream",
     "text": [
      "apples\n",
      "pears\n",
      "grapes\n",
      "oranges\n"
     ]
    }
   ],
   "source": [
    "with open(\"example_file.txt\") as filein:\n",
    "    for line in filein:\n",
    "        strippedline = line.strip()\n",
    "        \n",
    "        splitline    = strippedline.split(',')\n",
    "        \n",
    "        #print(splitline[0])\n",
    "        \n",
    "        # You can even concatenate the methods\n",
    "        print(  line.strip().split(',')[0] )"
   ]
  },
  {
   "cell_type": "markdown",
   "metadata": {},
   "source": [
    "## Writing a file based on data\n",
    "\n",
    "How you write to a file is very similar to how you read from a file. But notice the ```'w'``` parameter in the ```open()``` function."
   ]
  },
  {
   "cell_type": "code",
   "execution_count": 28,
   "metadata": {},
   "outputs": [],
   "source": [
    "# You can write the whole content at once\n",
    "\n",
    "f = open(\"new_file.txt\",'w')\n",
    "\n",
    "f.write('This is a test\\n')\n",
    "\n",
    "f.close()"
   ]
  },
  {
   "cell_type": "code",
   "execution_count": 99,
   "metadata": {},
   "outputs": [],
   "source": [
    "with open('newfile.txt', 'a') as f:\n",
    "    f.write('This is a test\\n')"
   ]
  },
  {
   "cell_type": "code",
   "execution_count": 29,
   "metadata": {},
   "outputs": [
    {
     "name": "stdout",
     "output_type": "stream",
     "text": [
      "This is line 1\n",
      "\n",
      "This is line 2\n",
      "\n",
      "This is line 3\n",
      "\n",
      "This is line 4\n",
      "\n",
      "This is line 5\n",
      "\n"
     ]
    }
   ],
   "source": [
    "# Or you can write multiple times, adding to the end of the file\n",
    "\n",
    "with open(\"newer_file.txt\",'w') as fileout:\n",
    "    \n",
    "    for i in range(5):\n",
    "        output_string = 'This is line ' + str(i+1) + '\\n' \n",
    "        print(output_string)\n",
    "        fileout.write( output_string )"
   ]
  },
  {
   "cell_type": "code",
   "execution_count": 30,
   "metadata": {},
   "outputs": [],
   "source": [
    "# EXERCISE:\n",
    "# Read from example_file.txt and write the fruit only, one per line,\n",
    "# to a new file called example_file_small.txt.\n",
    "\n",
    "\n",
    "\n",
    "\n",
    "\n"
   ]
  },
  {
   "cell_type": "markdown",
   "metadata": {},
   "source": [
    "\n",
    "## 4.1. Running python outside Jypyter\n",
    "\n",
    "Running code outside of Jupyter can be very useful when you are working with amounts of data that need more computing power or time than your computer can provide alone. \n",
    "\n",
    "Python consoles are available for you on your computer right now. There are at least two! One of them is in JupyterLab and the other is in the shell. While the one in Jupyter is nice and fancy, it is really useful to know how to run python in the console. Sometimes you will want to just test out a line of code, or perhaps run python over a server that does not have any graphic interface.\n",
    "\n",
    "To open the python console in Windows you should be running the Anaconda Prompt, not the regular shell (accessible through ```cmd``` or the new shiny PowerShell). You _can_ run python through both of these with some configuration. _For the intrepid_, if you really want to run python from your regular Windows shell, search the web for \"setting class path python\", because what you need to do is get windows to know where the python command is located. We are not doing that here because it can muck with your system if you accidentally run the wrong version of python.\n",
    "\n",
    "In the Anaconda Prompt shell, just type ```python``` and you should see this: \n",
    "~~~\n",
    "> python\n",
    "Python 3.6.4 |Anaconda, Inc.| (default, Jan 16 2018, 10:22:32) [MSC v.1900 64 bit (AMD64)] on win32\n",
    "Type \"help\", \"copyright\", \"credits\" or \"license\" for more information.\n",
    ">>>\n",
    "~~~\n",
    "\n",
    "However, it is a little bit slicker if you type ```ipython```. It gives you extra colours, tips, and over all a stripped-down version of JupyterLab.\n",
    "\n",
    "~~~\n",
    "> ipython\n",
    "Python 3.6.4 |Anaconda, Inc.| (default, Jan 16 2018, 10:22:32) [MSC v.1900 64 bit (AMD64)]\n",
    "Type 'copyright', 'credits' or 'license' for more information\n",
    "IPython 6.2.1 -- An enhanced Interactive Python. Type '?' for help.\n",
    "\n",
    "In [1]:\n",
    "~~~\n",
    "\n",
    "Fun fact, ipython is the ancestor of the Jupyter Notebook. "
   ]
  },
  {
   "cell_type": "markdown",
   "metadata": {},
   "source": [
    "## 4.2. Interacting with the python shell. \n",
    "\n",
    "Regardless of which python console you use, you can now interact with it by tying python commands one by one and seeing their output\n",
    "\n",
    "Sometimes this is really nice if you just want to test a single line of code or two. Try typing this:\n",
    "\n",
    "~~~ python\n",
    "for i in range(10): \n",
    "~~~\n",
    "\n",
    "And see what happens. Notice that it doesn't execute, becuase it knows that there's going to be another line after the colon. \n",
    "\n",
    "You an also use the up and down cursors to navigate through previous statements. "
   ]
  },
  {
   "cell_type": "markdown",
   "metadata": {},
   "source": [
    "## 4.3. Running a python program from the shell.\n",
    "\n",
    "If you run ```python myfile.py```, where ```myfile.py``` is a file containing python code, it will execute that file rather than go to the console.\n",
    "\n",
    "Try creating a simple file called \"test.py\", containing one line of code like ```print(\"Hello\")```.\n",
    "\n",
    "Now let's run that file. First navigate to the directory containing this file (without the '>'):\n",
    "\n",
    "~~~ python\n",
    "> cd path_to_folder\n",
    "~~~\n",
    "\n",
    "Then type the following in the console (without the '>'). \n",
    "\n",
    "~~~ python\n",
    "> python test.py\n",
    "~~~\n",
    "\n",
    "Or, from ```ipython```, type:\n",
    "\n",
    "\n",
    "~~~ python\n",
    "> cd path_to_folder\n",
    "> run test.py\n",
    "~~~"
   ]
  }
 ],
 "metadata": {
  "kernelspec": {
   "display_name": "Python 3",
   "language": "python",
   "name": "python3"
  },
  "language_info": {
   "codemirror_mode": {
    "name": "ipython",
    "version": 3
   },
   "file_extension": ".py",
   "mimetype": "text/x-python",
   "name": "python",
   "nbconvert_exporter": "python",
   "pygments_lexer": "ipython3",
   "version": "3.8.8"
  }
 },
 "nbformat": 4,
 "nbformat_minor": 2
}
